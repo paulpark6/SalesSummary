{
 "cells": [
  {
   "cell_type": "code",
   "execution_count": 1,
   "id": "42e4cdfc",
   "metadata": {},
   "outputs": [],
   "source": [
    "import pandas as pd\n",
    "import os"
   ]
  },
  {
   "cell_type": "code",
   "execution_count": 2,
   "id": "8f7073dd",
   "metadata": {},
   "outputs": [],
   "source": [
    "path_data = \"C:/GitHub-Projects/DataAnalysis/Sales Analysis/SalesSummary/DataBase/\""
   ]
  },
  {
   "cell_type": "code",
   "execution_count": 3,
   "id": "4af0efb3",
   "metadata": {
    "scrolled": true
   },
   "outputs": [
    {
     "name": "stdout",
     "output_type": "stream",
     "text": [
      "option [ 1 ]:  clients.csv\n",
      "option [ 2 ]:  ogPrice.csv\n",
      "option [ 3 ]:  sales.csv\n",
      "option [ 4 ]:  sales_price_types.csv\n",
      "option [ 5 ]:  stock_price.csv\n"
     ]
    }
   ],
   "source": [
    "dirs=os.listdir(path_data)\n",
    "for d in dirs:\n",
    "    print(\"option [\" , dirs.index(d) + 1 , \"]: \" , d)"
   ]
  },
  {
   "cell_type": "markdown",
   "id": "f0cd1fe7",
   "metadata": {},
   "source": [
    "## Sales File Name"
   ]
  },
  {
   "cell_type": "code",
   "execution_count": 4,
   "id": "85eb566a",
   "metadata": {
    "scrolled": true
   },
   "outputs": [],
   "source": [
    "#file_sales = input('Enter File Name For Sales: ')\n",
    "file_sales = \"sales.csv\""
   ]
  },
  {
   "cell_type": "markdown",
   "id": "244137da",
   "metadata": {},
   "source": [
    "## Current Stock's File Name"
   ]
  },
  {
   "cell_type": "code",
   "execution_count": 5,
   "id": "f4c86635",
   "metadata": {},
   "outputs": [],
   "source": [
    "#file_cstock = input('Enter File Name For Current Stock: ')\n",
    "file_cstock = \"stock_price.csv\""
   ]
  },
  {
   "cell_type": "markdown",
   "id": "24b9bf6f",
   "metadata": {},
   "source": [
    "## Enter file name for list of Clients"
   ]
  },
  {
   "cell_type": "code",
   "execution_count": 6,
   "id": "472daea4",
   "metadata": {},
   "outputs": [],
   "source": [
    "#file_client = input('Enter File Name For List Of Clients: ')\n",
    "file_client = \"clients.csv\""
   ]
  },
  {
   "cell_type": "markdown",
   "id": "139223d4",
   "metadata": {},
   "source": [
    "### Imported Datasets"
   ]
  },
  {
   "cell_type": "code",
   "execution_count": 7,
   "id": "b5e6862c",
   "metadata": {},
   "outputs": [
    {
     "data": {
      "text/html": [
       "<div>\n",
       "<style scoped>\n",
       "    .dataframe tbody tr th:only-of-type {\n",
       "        vertical-align: middle;\n",
       "    }\n",
       "\n",
       "    .dataframe tbody tr th {\n",
       "        vertical-align: top;\n",
       "    }\n",
       "\n",
       "    .dataframe thead th {\n",
       "        text-align: right;\n",
       "    }\n",
       "</style>\n",
       "<table border=\"1\" class=\"dataframe\">\n",
       "  <thead>\n",
       "    <tr style=\"text-align: right;\">\n",
       "      <th></th>\n",
       "      <th>code</th>\n",
       "      <th>product</th>\n",
       "      <th>facture</th>\n",
       "      <th>day</th>\n",
       "      <th>month</th>\n",
       "      <th>year</th>\n",
       "      <th>quantity</th>\n",
       "      <th>buyer type</th>\n",
       "      <th>buyer name</th>\n",
       "      <th>manager</th>\n",
       "      <th>price</th>\n",
       "      <th>total amount</th>\n",
       "      <th>payment</th>\n",
       "      <th>remark</th>\n",
       "    </tr>\n",
       "  </thead>\n",
       "  <tbody>\n",
       "  </tbody>\n",
       "</table>\n",
       "</div>"
      ],
      "text/plain": [
       "Empty DataFrame\n",
       "Columns: [code, product, facture, day, month, year, quantity, buyer type, buyer name, manager, price, total amount, payment, remark]\n",
       "Index: []"
      ]
     },
     "execution_count": 7,
     "metadata": {},
     "output_type": "execute_result"
    }
   ],
   "source": [
    "sales = pd.read_csv(path_data + file_sales)\n",
    "sales.head()"
   ]
  },
  {
   "cell_type": "code",
   "execution_count": 8,
   "id": "db1a34a6",
   "metadata": {
    "scrolled": true
   },
   "outputs": [
    {
     "data": {
      "text/html": [
       "<div>\n",
       "<style scoped>\n",
       "    .dataframe tbody tr th:only-of-type {\n",
       "        vertical-align: middle;\n",
       "    }\n",
       "\n",
       "    .dataframe tbody tr th {\n",
       "        vertical-align: top;\n",
       "    }\n",
       "\n",
       "    .dataframe thead th {\n",
       "        text-align: right;\n",
       "    }\n",
       "</style>\n",
       "<table border=\"1\" class=\"dataframe\">\n",
       "  <thead>\n",
       "    <tr style=\"text-align: right;\">\n",
       "      <th></th>\n",
       "      <th>NO.</th>\n",
       "      <th>code</th>\n",
       "      <th>Description</th>\n",
       "      <th>Package</th>\n",
       "      <th>Q'TY</th>\n",
       "      <th>liter/bottle</th>\n",
       "      <th>bottle/box</th>\n",
       "      <th>Quantity Q'ty (Unit)\\nORDER</th>\n",
       "      <th>T.Liter</th>\n",
       "      <th>N.WEIGHT</th>\n",
       "      <th>T.N.WEIGHT (KG)</th>\n",
       "      <th>G.WEIGHT</th>\n",
       "      <th>T.G_WEIGHT</th>\n",
       "      <th>CBM</th>\n",
       "      <th>T.CBM</th>\n",
       "    </tr>\n",
       "  </thead>\n",
       "  <tbody>\n",
       "    <tr>\n",
       "      <th>0</th>\n",
       "      <td>2710197120</td>\n",
       "      <td>E107612</td>\n",
       "      <td>S-OIL 7 RED #9 SN 5W-40 (200)</td>\n",
       "      <td>200L Drum</td>\n",
       "      <td>2</td>\n",
       "      <td>200</td>\n",
       "      <td>1</td>\n",
       "      <td>2</td>\n",
       "      <td>400</td>\n",
       "      <td>170.600</td>\n",
       "      <td>341.2</td>\n",
       "      <td>188.60</td>\n",
       "      <td>377.20</td>\n",
       "      <td>0.298</td>\n",
       "      <td>0.620</td>\n",
       "    </tr>\n",
       "    <tr>\n",
       "      <th>1</th>\n",
       "      <td>2710197120</td>\n",
       "      <td>E107633</td>\n",
       "      <td>S-OIL 7 RED #9 SN 10W-40 (4x4)</td>\n",
       "      <td>4L x 4</td>\n",
       "      <td>300</td>\n",
       "      <td>4</td>\n",
       "      <td>4</td>\n",
       "      <td>1200</td>\n",
       "      <td>4800</td>\n",
       "      <td>13.760</td>\n",
       "      <td>4128</td>\n",
       "      <td>14.60</td>\n",
       "      <td>4380.00</td>\n",
       "      <td>0.035</td>\n",
       "      <td>9.000</td>\n",
       "    </tr>\n",
       "    <tr>\n",
       "      <th>2</th>\n",
       "      <td>2710197120</td>\n",
       "      <td>E107634</td>\n",
       "      <td>S-OIL 7 RED #9 SN 10W-40 (200)</td>\n",
       "      <td>200L Drum</td>\n",
       "      <td>4</td>\n",
       "      <td>200</td>\n",
       "      <td>1</td>\n",
       "      <td>4</td>\n",
       "      <td>800</td>\n",
       "      <td>172.000</td>\n",
       "      <td>688</td>\n",
       "      <td>190.00</td>\n",
       "      <td>760.00</td>\n",
       "      <td>0.298</td>\n",
       "      <td>1.240</td>\n",
       "    </tr>\n",
       "    <tr>\n",
       "      <th>3</th>\n",
       "      <td>2710197120</td>\n",
       "      <td>E107751</td>\n",
       "      <td>S-OIL 7 GOLD #9 ECO C3 5W-30</td>\n",
       "      <td>5L x 3</td>\n",
       "      <td>16</td>\n",
       "      <td>5</td>\n",
       "      <td>3</td>\n",
       "      <td>48</td>\n",
       "      <td>240</td>\n",
       "      <td>12.810</td>\n",
       "      <td>204.96</td>\n",
       "      <td>13.65</td>\n",
       "      <td>218.40</td>\n",
       "      <td>0.033</td>\n",
       "      <td>0.448</td>\n",
       "    </tr>\n",
       "    <tr>\n",
       "      <th>4</th>\n",
       "      <td>2710197120</td>\n",
       "      <td>E108012</td>\n",
       "      <td>S-OIL 7 4T RIDER #9 MA2 10W-40 (1x12)</td>\n",
       "      <td>1L x 12</td>\n",
       "      <td>40</td>\n",
       "      <td>1</td>\n",
       "      <td>12</td>\n",
       "      <td>480</td>\n",
       "      <td>480</td>\n",
       "      <td>10.224</td>\n",
       "      <td>408.96</td>\n",
       "      <td>11.21</td>\n",
       "      <td>448.32</td>\n",
       "      <td>0.023</td>\n",
       "      <td>0.880</td>\n",
       "    </tr>\n",
       "  </tbody>\n",
       "</table>\n",
       "</div>"
      ],
      "text/plain": [
       "          NO.     code                            Description    Package  \\\n",
       "0  2710197120  E107612          S-OIL 7 RED #9 SN 5W-40 (200)  200L Drum   \n",
       "1  2710197120  E107633         S-OIL 7 RED #9 SN 10W-40 (4x4)     4L x 4   \n",
       "2  2710197120  E107634         S-OIL 7 RED #9 SN 10W-40 (200)  200L Drum   \n",
       "3  2710197120  E107751          S-OIL 7 GOLD #9 ECO C3 5W-30      5L x 3   \n",
       "4  2710197120  E108012  S-OIL 7 4T RIDER #9 MA2 10W-40 (1x12)    1L x 12   \n",
       "\n",
       "   Q'TY  liter/bottle  bottle/box  Quantity Q'ty (Unit)\\nORDER  T.Liter  \\\n",
       "0     2           200           1                            2      400   \n",
       "1   300             4           4                         1200     4800   \n",
       "2     4           200           1                            4      800   \n",
       "3    16             5           3                           48      240   \n",
       "4    40             1          12                          480      480   \n",
       "\n",
       "   N.WEIGHT T.N.WEIGHT (KG)  G.WEIGHT  T.G_WEIGHT    CBM  T.CBM  \n",
       "0   170.600           341.2    188.60      377.20  0.298  0.620  \n",
       "1    13.760            4128     14.60     4380.00  0.035  9.000  \n",
       "2   172.000             688    190.00      760.00  0.298  1.240  \n",
       "3    12.810          204.96     13.65      218.40  0.033  0.448  \n",
       "4    10.224          408.96     11.21      448.32  0.023  0.880  "
      ]
     },
     "execution_count": 8,
     "metadata": {},
     "output_type": "execute_result"
    }
   ],
   "source": [
    "cStock = pd.read_csv(path_data + file_cstock)\n",
    "cStock.head()"
   ]
  },
  {
   "cell_type": "code",
   "execution_count": 9,
   "id": "65b4a2d7",
   "metadata": {},
   "outputs": [],
   "source": [
    "clients = pd.read_csv(path_data + file_client)"
   ]
  },
  {
   "cell_type": "markdown",
   "id": "12c435fa",
   "metadata": {},
   "source": [
    "### Enter information for sales\n",
    "##### First enter product name to find code!"
   ]
  },
  {
   "cell_type": "code",
   "execution_count": 10,
   "id": "38268fed",
   "metadata": {},
   "outputs": [
    {
     "name": "stdout",
     "output_type": "stream",
     "text": [
      "Enter Product Name: 10W-40\n"
     ]
    },
    {
     "data": {
      "text/html": [
       "<div>\n",
       "<style scoped>\n",
       "    .dataframe tbody tr th:only-of-type {\n",
       "        vertical-align: middle;\n",
       "    }\n",
       "\n",
       "    .dataframe tbody tr th {\n",
       "        vertical-align: top;\n",
       "    }\n",
       "\n",
       "    .dataframe thead th {\n",
       "        text-align: right;\n",
       "    }\n",
       "</style>\n",
       "<table border=\"1\" class=\"dataframe\">\n",
       "  <thead>\n",
       "    <tr style=\"text-align: right;\">\n",
       "      <th></th>\n",
       "      <th>NO.</th>\n",
       "      <th>code</th>\n",
       "      <th>Description</th>\n",
       "      <th>Package</th>\n",
       "      <th>Q'TY</th>\n",
       "      <th>liter/bottle</th>\n",
       "      <th>bottle/box</th>\n",
       "      <th>Quantity Q'ty (Unit)\\nORDER</th>\n",
       "      <th>T.Liter</th>\n",
       "      <th>N.WEIGHT</th>\n",
       "      <th>T.N.WEIGHT (KG)</th>\n",
       "      <th>G.WEIGHT</th>\n",
       "      <th>T.G_WEIGHT</th>\n",
       "      <th>CBM</th>\n",
       "      <th>T.CBM</th>\n",
       "    </tr>\n",
       "  </thead>\n",
       "  <tbody>\n",
       "    <tr>\n",
       "      <th>1</th>\n",
       "      <td>2710197120</td>\n",
       "      <td>E107633</td>\n",
       "      <td>S-OIL 7 RED #9 SN 10W-40 (4x4)</td>\n",
       "      <td>4L x 4</td>\n",
       "      <td>300</td>\n",
       "      <td>4</td>\n",
       "      <td>4</td>\n",
       "      <td>1200</td>\n",
       "      <td>4800</td>\n",
       "      <td>13.760</td>\n",
       "      <td>4128</td>\n",
       "      <td>14.60</td>\n",
       "      <td>4380.00</td>\n",
       "      <td>0.035</td>\n",
       "      <td>9.00</td>\n",
       "    </tr>\n",
       "    <tr>\n",
       "      <th>2</th>\n",
       "      <td>2710197120</td>\n",
       "      <td>E107634</td>\n",
       "      <td>S-OIL 7 RED #9 SN 10W-40 (200)</td>\n",
       "      <td>200L Drum</td>\n",
       "      <td>4</td>\n",
       "      <td>200</td>\n",
       "      <td>1</td>\n",
       "      <td>4</td>\n",
       "      <td>800</td>\n",
       "      <td>172.000</td>\n",
       "      <td>688</td>\n",
       "      <td>190.00</td>\n",
       "      <td>760.00</td>\n",
       "      <td>0.298</td>\n",
       "      <td>1.24</td>\n",
       "    </tr>\n",
       "    <tr>\n",
       "      <th>4</th>\n",
       "      <td>2710197120</td>\n",
       "      <td>E108012</td>\n",
       "      <td>S-OIL 7 4T RIDER #9 MA2 10W-40 (1x12)</td>\n",
       "      <td>1L x 12</td>\n",
       "      <td>40</td>\n",
       "      <td>1</td>\n",
       "      <td>12</td>\n",
       "      <td>480</td>\n",
       "      <td>480</td>\n",
       "      <td>10.224</td>\n",
       "      <td>408.96</td>\n",
       "      <td>11.21</td>\n",
       "      <td>448.32</td>\n",
       "      <td>0.023</td>\n",
       "      <td>0.88</td>\n",
       "    </tr>\n",
       "  </tbody>\n",
       "</table>\n",
       "</div>"
      ],
      "text/plain": [
       "          NO.     code                            Description    Package  \\\n",
       "1  2710197120  E107633         S-OIL 7 RED #9 SN 10W-40 (4x4)     4L x 4   \n",
       "2  2710197120  E107634         S-OIL 7 RED #9 SN 10W-40 (200)  200L Drum   \n",
       "4  2710197120  E108012  S-OIL 7 4T RIDER #9 MA2 10W-40 (1x12)    1L x 12   \n",
       "\n",
       "   Q'TY  liter/bottle  bottle/box  Quantity Q'ty (Unit)\\nORDER  T.Liter  \\\n",
       "1   300             4           4                         1200     4800   \n",
       "2     4           200           1                            4      800   \n",
       "4    40             1          12                          480      480   \n",
       "\n",
       "   N.WEIGHT T.N.WEIGHT (KG)  G.WEIGHT  T.G_WEIGHT    CBM  T.CBM  \n",
       "1    13.760            4128     14.60     4380.00  0.035   9.00  \n",
       "2   172.000             688    190.00      760.00  0.298   1.24  \n",
       "4    10.224          408.96     11.21      448.32  0.023   0.88  "
      ]
     },
     "execution_count": 10,
     "metadata": {},
     "output_type": "execute_result"
    }
   ],
   "source": [
    "product_name = input(\"Enter Product Name: \")\n",
    "c_products = cStock[cStock['Description'].str.contains(product_name, case=False)]\n",
    "c_products"
   ]
  },
  {
   "cell_type": "markdown",
   "id": "e993c5d3",
   "metadata": {},
   "source": [
    "### Enter information for selling item"
   ]
  },
  {
   "cell_type": "markdown",
   "id": "aef1c478",
   "metadata": {},
   "source": [
    "##### Payment Types"
   ]
  },
  {
   "cell_type": "code",
   "execution_count": 11,
   "id": "a37779f1",
   "metadata": {},
   "outputs": [
    {
     "name": "stdout",
     "output_type": "stream",
     "text": [
      "Types:  Prix de grossiste\n",
      "Types:  prix de grossiste 1\n",
      "Types:  prix de grossiste 2\n",
      "Types:  prix de taillant\n"
     ]
    }
   ],
   "source": [
    "print (\"Types:  Prix de grossiste\\n\" + \n",
    "\"Types:  prix de grossiste 1\\n\" +\n",
    "\"Types:  prix de grossiste 2\\n\" +\n",
    "\"Types:  prix de taillant\")"
   ]
  },
  {
   "cell_type": "code",
   "execution_count": 12,
   "id": "135893d5",
   "metadata": {},
   "outputs": [
    {
     "name": "stdout",
     "output_type": "stream",
     "text": [
      "Enter Item Code From Above: E107633\n"
     ]
    },
    {
     "data": {
      "text/html": [
       "<div>\n",
       "<style scoped>\n",
       "    .dataframe tbody tr th:only-of-type {\n",
       "        vertical-align: middle;\n",
       "    }\n",
       "\n",
       "    .dataframe tbody tr th {\n",
       "        vertical-align: top;\n",
       "    }\n",
       "\n",
       "    .dataframe thead th {\n",
       "        text-align: right;\n",
       "    }\n",
       "</style>\n",
       "<table border=\"1\" class=\"dataframe\">\n",
       "  <thead>\n",
       "    <tr style=\"text-align: right;\">\n",
       "      <th></th>\n",
       "      <th>NO.</th>\n",
       "      <th>code</th>\n",
       "      <th>Description</th>\n",
       "      <th>Package</th>\n",
       "      <th>Q'TY</th>\n",
       "      <th>liter/bottle</th>\n",
       "      <th>bottle/box</th>\n",
       "      <th>Quantity Q'ty (Unit)\\nORDER</th>\n",
       "      <th>T.Liter</th>\n",
       "      <th>N.WEIGHT</th>\n",
       "      <th>T.N.WEIGHT (KG)</th>\n",
       "      <th>G.WEIGHT</th>\n",
       "      <th>T.G_WEIGHT</th>\n",
       "      <th>CBM</th>\n",
       "      <th>T.CBM</th>\n",
       "    </tr>\n",
       "  </thead>\n",
       "  <tbody>\n",
       "    <tr>\n",
       "      <th>1</th>\n",
       "      <td>2710197120</td>\n",
       "      <td>E107633</td>\n",
       "      <td>S-OIL 7 RED #9 SN 10W-40 (4x4)</td>\n",
       "      <td>4L x 4</td>\n",
       "      <td>300</td>\n",
       "      <td>4</td>\n",
       "      <td>4</td>\n",
       "      <td>1200</td>\n",
       "      <td>4800</td>\n",
       "      <td>13.76</td>\n",
       "      <td>4128</td>\n",
       "      <td>14.6</td>\n",
       "      <td>4380.0</td>\n",
       "      <td>0.035</td>\n",
       "      <td>9.0</td>\n",
       "    </tr>\n",
       "  </tbody>\n",
       "</table>\n",
       "</div>"
      ],
      "text/plain": [
       "          NO.     code                     Description Package  Q'TY  \\\n",
       "1  2710197120  E107633  S-OIL 7 RED #9 SN 10W-40 (4x4)  4L x 4   300   \n",
       "\n",
       "   liter/bottle  bottle/box  Quantity Q'ty (Unit)\\nORDER  T.Liter  N.WEIGHT  \\\n",
       "1             4           4                         1200     4800     13.76   \n",
       "\n",
       "  T.N.WEIGHT (KG)  G.WEIGHT  T.G_WEIGHT    CBM  T.CBM  \n",
       "1            4128      14.6      4380.0  0.035    9.0  "
      ]
     },
     "execution_count": 12,
     "metadata": {},
     "output_type": "execute_result"
    }
   ],
   "source": [
    "sell_code = input('Enter Item Code From Above: ')\n",
    "item = c_products.loc[c_products['code']==sell_code]\n",
    "item"
   ]
  },
  {
   "cell_type": "code",
   "execution_count": 13,
   "id": "143e4b4e",
   "metadata": {
    "scrolled": true
   },
   "outputs": [],
   "source": [
    "sell_product = item.loc[:,'Description'].tolist()[0]"
   ]
  },
  {
   "cell_type": "code",
   "execution_count": 14,
   "id": "06eb5b58",
   "metadata": {},
   "outputs": [
    {
     "name": "stdout",
     "output_type": "stream",
     "text": [
      "Enter facture details: n/a\n",
      "Enter sell day: 06\n",
      "Enter sell month: 01\n",
      "Enter sell year: 2023\n"
     ]
    }
   ],
   "source": [
    "sell_facture = input('Enter facture details: ')\n",
    "sell_day = int(input('Enter sell day: '))\n",
    "sell_month = int(input('Enter sell month: '))\n",
    "sell_year = int(input('Enter sell year: '))"
   ]
  },
  {
   "cell_type": "code",
   "execution_count": 24,
   "id": "f020448c",
   "metadata": {
    "scrolled": true
   },
   "outputs": [
    {
     "name": "stdout",
     "output_type": "stream",
     "text": [
      "Enter sell quantity: 12\n"
     ]
    }
   ],
   "source": [
    "max_qty = item.iloc[:,7].tolist()[0]\n",
    "sell_qty = int(input('Enter sell quantity: '))\n",
    "while sell_qty > max_qty:\n",
    "    sell_qty = int(input('Enter sell quantity AGAIN (MAX amount is ' + str(max_qty) + '): '))"
   ]
  },
  {
   "cell_type": "code",
   "execution_count": 31,
   "id": "7e6cafa4",
   "metadata": {},
   "outputs": [
    {
     "name": "stdout",
     "output_type": "stream",
     "text": [
      "Enter Buyer Type: n/a\n"
     ]
    }
   ],
   "source": [
    "sell_buyerType = input('Enter Buyer Type: ')"
   ]
  },
  {
   "cell_type": "code",
   "execution_count": 41,
   "id": "a5edd928",
   "metadata": {
    "scrolled": true
   },
   "outputs": [
    {
     "name": "stdout",
     "output_type": "stream",
     "text": [
      "Enter Buyer Info: park\n"
     ]
    },
    {
     "data": {
      "text/html": [
       "<div>\n",
       "<style scoped>\n",
       "    .dataframe tbody tr th:only-of-type {\n",
       "        vertical-align: middle;\n",
       "    }\n",
       "\n",
       "    .dataframe tbody tr th {\n",
       "        vertical-align: top;\n",
       "    }\n",
       "\n",
       "    .dataframe thead th {\n",
       "        text-align: right;\n",
       "    }\n",
       "</style>\n",
       "<table border=\"1\" class=\"dataframe\">\n",
       "  <thead>\n",
       "    <tr style=\"text-align: right;\">\n",
       "      <th></th>\n",
       "      <th>Buyer Name</th>\n",
       "    </tr>\n",
       "  </thead>\n",
       "  <tbody>\n",
       "    <tr>\n",
       "      <th>4</th>\n",
       "      <td>M.Park</td>\n",
       "    </tr>\n",
       "  </tbody>\n",
       "</table>\n",
       "</div>"
      ],
      "text/plain": [
       "  Buyer Name\n",
       "4     M.Park"
      ]
     },
     "execution_count": 41,
     "metadata": {},
     "output_type": "execute_result"
    }
   ],
   "source": [
    "sell_buyerName = input('Enter Buyer Info: ')\n",
    "client = clients[clients['Buyer Name'].str.contains(sell_buyerName,case=False)]\n",
    "client"
   ]
  },
  {
   "cell_type": "code",
   "execution_count": 42,
   "id": "d425fe78",
   "metadata": {},
   "outputs": [
    {
     "name": "stdout",
     "output_type": "stream",
     "text": [
      "Enter Buyer Name From Above: M.Park\n"
     ]
    }
   ],
   "source": [
    "sell_buyerName = input('Enter Buyer Name From Above: ')"
   ]
  },
  {
   "cell_type": "code",
   "execution_count": null,
   "id": "27c44972",
   "metadata": {},
   "outputs": [],
   "source": [
    "sell_manager = input('Enter Sales Manager: ')\n",
    "sell_price = input('Enter Sales Price: ')\n",
    "sell_total = input('Enter Sales Total: ')\n",
    "sell_payment = input('Sell Payment Method: ')\n",
    "sell_remark = input('Sell Remark: ')"
   ]
  },
  {
   "cell_type": "code",
   "execution_count": 17,
   "id": "c9575479",
   "metadata": {},
   "outputs": [],
   "source": [
    "sales_list = [sell_code, sell_product, sell_facture, sell_day, \n",
    "               sell_month, sell_year, sell_qty, sell_buyerType, \n",
    "               sell_buyerName, sell_manager,\n",
    "              sell_price, sell_total, sell_payment, sell_remark]"
   ]
  },
  {
   "cell_type": "markdown",
   "id": "b14db08c",
   "metadata": {},
   "source": [
    "### Edit Data To Sales"
   ]
  },
  {
   "cell_type": "code",
   "execution_count": 18,
   "id": "cfc83e92",
   "metadata": {
    "scrolled": true
   },
   "outputs": [
    {
     "data": {
      "text/plain": [
       "{'code': 'E107633',\n",
       " 'product': 'S-OIL 7 RED #9 SN 10W-40 (4x4)',\n",
       " 'facture': 'n/a',\n",
       " 'day': 6,\n",
       " 'month': 1,\n",
       " 'year': 2023,\n",
       " 'quantity': 1200,\n",
       " 'buyer type': 'n/a',\n",
       " 'buyer name': 'n/a',\n",
       " 'manager': 'n/a',\n",
       " 'price': 'n/a',\n",
       " 'total amount': 'n/a',\n",
       " 'payment': 'n/a',\n",
       " 'remark': 'n/a'}"
      ]
     },
     "execution_count": 18,
     "metadata": {},
     "output_type": "execute_result"
    }
   ],
   "source": [
    "#df.to_csv('modified.csv')\n",
    "col_title = sales.columns.tolist()\n",
    "n = len(col_title)\n",
    "new_data = dict()\n",
    "for i in range(n):\n",
    "    new_data[col_title[i]]=sales_list[i]\n",
    "new_data"
   ]
  },
  {
   "cell_type": "code",
   "execution_count": 19,
   "id": "89bd7072",
   "metadata": {},
   "outputs": [
    {
     "name": "stderr",
     "output_type": "stream",
     "text": [
      "C:\\Users\\03pau\\AppData\\Local\\Temp\\ipykernel_29748\\3560343835.py:1: FutureWarning: The frame.append method is deprecated and will be removed from pandas in a future version. Use pandas.concat instead.\n",
      "  new_sales = sales.append(new_data, ignore_index = True)\n"
     ]
    },
    {
     "data": {
      "text/html": [
       "<div>\n",
       "<style scoped>\n",
       "    .dataframe tbody tr th:only-of-type {\n",
       "        vertical-align: middle;\n",
       "    }\n",
       "\n",
       "    .dataframe tbody tr th {\n",
       "        vertical-align: top;\n",
       "    }\n",
       "\n",
       "    .dataframe thead th {\n",
       "        text-align: right;\n",
       "    }\n",
       "</style>\n",
       "<table border=\"1\" class=\"dataframe\">\n",
       "  <thead>\n",
       "    <tr style=\"text-align: right;\">\n",
       "      <th></th>\n",
       "      <th>code</th>\n",
       "      <th>product</th>\n",
       "      <th>facture</th>\n",
       "      <th>day</th>\n",
       "      <th>month</th>\n",
       "      <th>year</th>\n",
       "      <th>quantity</th>\n",
       "      <th>buyer type</th>\n",
       "      <th>buyer name</th>\n",
       "      <th>manager</th>\n",
       "      <th>price</th>\n",
       "      <th>total amount</th>\n",
       "      <th>payment</th>\n",
       "      <th>remark</th>\n",
       "    </tr>\n",
       "  </thead>\n",
       "  <tbody>\n",
       "    <tr>\n",
       "      <th>0</th>\n",
       "      <td>E107633</td>\n",
       "      <td>S-OIL 7 RED #9 SN 10W-40 (4x4)</td>\n",
       "      <td>n/a</td>\n",
       "      <td>6</td>\n",
       "      <td>1</td>\n",
       "      <td>2023</td>\n",
       "      <td>1200</td>\n",
       "      <td>n/a</td>\n",
       "      <td>n/a</td>\n",
       "      <td>n/a</td>\n",
       "      <td>n/a</td>\n",
       "      <td>n/a</td>\n",
       "      <td>n/a</td>\n",
       "      <td>n/a</td>\n",
       "    </tr>\n",
       "  </tbody>\n",
       "</table>\n",
       "</div>"
      ],
      "text/plain": [
       "      code                         product facture day month  year quantity  \\\n",
       "0  E107633  S-OIL 7 RED #9 SN 10W-40 (4x4)     n/a   6     1  2023     1200   \n",
       "\n",
       "  buyer type buyer name manager price total amount payment remark  \n",
       "0        n/a        n/a     n/a   n/a          n/a     n/a    n/a  "
      ]
     },
     "execution_count": 19,
     "metadata": {},
     "output_type": "execute_result"
    }
   ],
   "source": [
    "new_sales = sales.append(new_data, ignore_index = True)\n",
    "new_sales.head()"
   ]
  },
  {
   "cell_type": "markdown",
   "id": "d5241d8e",
   "metadata": {},
   "source": [
    "#### Can Only Add Once. Change name or delete previous file to add more"
   ]
  },
  {
   "cell_type": "code",
   "execution_count": 25,
   "id": "6c6419ef",
   "metadata": {},
   "outputs": [
    {
     "data": {
      "text/plain": [
       "'C:\\\\GitHub-Projects\\\\DataAnalysis\\\\Sales Analysis\\\\SalesSummary\\\\JupyterNotebookFiles'"
      ]
     },
     "execution_count": 25,
     "metadata": {},
     "output_type": "execute_result"
    }
   ],
   "source": [
    "%pwd"
   ]
  },
  {
   "cell_type": "code",
   "execution_count": 20,
   "id": "aac6a568",
   "metadata": {},
   "outputs": [
    {
     "ename": "OSError",
     "evalue": "Cannot save file into a non-existent directory: 'n'",
     "output_type": "error",
     "traceback": [
      "\u001b[1;31m---------------------------------------------------------------------------\u001b[0m",
      "\u001b[1;31mOSError\u001b[0m                                   Traceback (most recent call last)",
      "Cell \u001b[1;32mIn[20], line 1\u001b[0m\n\u001b[1;32m----> 1\u001b[0m \u001b[43mnew_sales\u001b[49m\u001b[38;5;241;43m.\u001b[39;49m\u001b[43mto_csv\u001b[49m\u001b[43m(\u001b[49m\u001b[43msell_manager\u001b[49m\u001b[43m \u001b[49m\u001b[38;5;241;43m+\u001b[39;49m\u001b[38;5;124;43m'\u001b[39;49m\u001b[38;5;124;43m_modified_sales.csv\u001b[39;49m\u001b[38;5;124;43m'\u001b[39;49m\u001b[43m)\u001b[49m\n",
      "File \u001b[1;32m~\\AppData\\Roaming\\Python\\Python39\\site-packages\\pandas\\core\\generic.py:3551\u001b[0m, in \u001b[0;36mNDFrame.to_csv\u001b[1;34m(self, path_or_buf, sep, na_rep, float_format, columns, header, index, index_label, mode, encoding, compression, quoting, quotechar, line_terminator, chunksize, date_format, doublequote, escapechar, decimal, errors, storage_options)\u001b[0m\n\u001b[0;32m   3540\u001b[0m df \u001b[38;5;241m=\u001b[39m \u001b[38;5;28mself\u001b[39m \u001b[38;5;28;01mif\u001b[39;00m \u001b[38;5;28misinstance\u001b[39m(\u001b[38;5;28mself\u001b[39m, ABCDataFrame) \u001b[38;5;28;01melse\u001b[39;00m \u001b[38;5;28mself\u001b[39m\u001b[38;5;241m.\u001b[39mto_frame()\n\u001b[0;32m   3542\u001b[0m formatter \u001b[38;5;241m=\u001b[39m DataFrameFormatter(\n\u001b[0;32m   3543\u001b[0m     frame\u001b[38;5;241m=\u001b[39mdf,\n\u001b[0;32m   3544\u001b[0m     header\u001b[38;5;241m=\u001b[39mheader,\n\u001b[1;32m   (...)\u001b[0m\n\u001b[0;32m   3548\u001b[0m     decimal\u001b[38;5;241m=\u001b[39mdecimal,\n\u001b[0;32m   3549\u001b[0m )\n\u001b[1;32m-> 3551\u001b[0m \u001b[38;5;28;01mreturn\u001b[39;00m \u001b[43mDataFrameRenderer\u001b[49m\u001b[43m(\u001b[49m\u001b[43mformatter\u001b[49m\u001b[43m)\u001b[49m\u001b[38;5;241;43m.\u001b[39;49m\u001b[43mto_csv\u001b[49m\u001b[43m(\u001b[49m\n\u001b[0;32m   3552\u001b[0m \u001b[43m    \u001b[49m\u001b[43mpath_or_buf\u001b[49m\u001b[43m,\u001b[49m\n\u001b[0;32m   3553\u001b[0m \u001b[43m    \u001b[49m\u001b[43mline_terminator\u001b[49m\u001b[38;5;241;43m=\u001b[39;49m\u001b[43mline_terminator\u001b[49m\u001b[43m,\u001b[49m\n\u001b[0;32m   3554\u001b[0m \u001b[43m    \u001b[49m\u001b[43msep\u001b[49m\u001b[38;5;241;43m=\u001b[39;49m\u001b[43msep\u001b[49m\u001b[43m,\u001b[49m\n\u001b[0;32m   3555\u001b[0m \u001b[43m    \u001b[49m\u001b[43mencoding\u001b[49m\u001b[38;5;241;43m=\u001b[39;49m\u001b[43mencoding\u001b[49m\u001b[43m,\u001b[49m\n\u001b[0;32m   3556\u001b[0m \u001b[43m    \u001b[49m\u001b[43merrors\u001b[49m\u001b[38;5;241;43m=\u001b[39;49m\u001b[43merrors\u001b[49m\u001b[43m,\u001b[49m\n\u001b[0;32m   3557\u001b[0m \u001b[43m    \u001b[49m\u001b[43mcompression\u001b[49m\u001b[38;5;241;43m=\u001b[39;49m\u001b[43mcompression\u001b[49m\u001b[43m,\u001b[49m\n\u001b[0;32m   3558\u001b[0m \u001b[43m    \u001b[49m\u001b[43mquoting\u001b[49m\u001b[38;5;241;43m=\u001b[39;49m\u001b[43mquoting\u001b[49m\u001b[43m,\u001b[49m\n\u001b[0;32m   3559\u001b[0m \u001b[43m    \u001b[49m\u001b[43mcolumns\u001b[49m\u001b[38;5;241;43m=\u001b[39;49m\u001b[43mcolumns\u001b[49m\u001b[43m,\u001b[49m\n\u001b[0;32m   3560\u001b[0m \u001b[43m    \u001b[49m\u001b[43mindex_label\u001b[49m\u001b[38;5;241;43m=\u001b[39;49m\u001b[43mindex_label\u001b[49m\u001b[43m,\u001b[49m\n\u001b[0;32m   3561\u001b[0m \u001b[43m    \u001b[49m\u001b[43mmode\u001b[49m\u001b[38;5;241;43m=\u001b[39;49m\u001b[43mmode\u001b[49m\u001b[43m,\u001b[49m\n\u001b[0;32m   3562\u001b[0m \u001b[43m    \u001b[49m\u001b[43mchunksize\u001b[49m\u001b[38;5;241;43m=\u001b[39;49m\u001b[43mchunksize\u001b[49m\u001b[43m,\u001b[49m\n\u001b[0;32m   3563\u001b[0m \u001b[43m    \u001b[49m\u001b[43mquotechar\u001b[49m\u001b[38;5;241;43m=\u001b[39;49m\u001b[43mquotechar\u001b[49m\u001b[43m,\u001b[49m\n\u001b[0;32m   3564\u001b[0m \u001b[43m    \u001b[49m\u001b[43mdate_format\u001b[49m\u001b[38;5;241;43m=\u001b[39;49m\u001b[43mdate_format\u001b[49m\u001b[43m,\u001b[49m\n\u001b[0;32m   3565\u001b[0m \u001b[43m    \u001b[49m\u001b[43mdoublequote\u001b[49m\u001b[38;5;241;43m=\u001b[39;49m\u001b[43mdoublequote\u001b[49m\u001b[43m,\u001b[49m\n\u001b[0;32m   3566\u001b[0m \u001b[43m    \u001b[49m\u001b[43mescapechar\u001b[49m\u001b[38;5;241;43m=\u001b[39;49m\u001b[43mescapechar\u001b[49m\u001b[43m,\u001b[49m\n\u001b[0;32m   3567\u001b[0m \u001b[43m    \u001b[49m\u001b[43mstorage_options\u001b[49m\u001b[38;5;241;43m=\u001b[39;49m\u001b[43mstorage_options\u001b[49m\u001b[43m,\u001b[49m\n\u001b[0;32m   3568\u001b[0m \u001b[43m\u001b[49m\u001b[43m)\u001b[49m\n",
      "File \u001b[1;32m~\\AppData\\Roaming\\Python\\Python39\\site-packages\\pandas\\io\\formats\\format.py:1180\u001b[0m, in \u001b[0;36mDataFrameRenderer.to_csv\u001b[1;34m(self, path_or_buf, encoding, sep, columns, index_label, mode, compression, quoting, quotechar, line_terminator, chunksize, date_format, doublequote, escapechar, errors, storage_options)\u001b[0m\n\u001b[0;32m   1159\u001b[0m     created_buffer \u001b[38;5;241m=\u001b[39m \u001b[38;5;28;01mFalse\u001b[39;00m\n\u001b[0;32m   1161\u001b[0m csv_formatter \u001b[38;5;241m=\u001b[39m CSVFormatter(\n\u001b[0;32m   1162\u001b[0m     path_or_buf\u001b[38;5;241m=\u001b[39mpath_or_buf,\n\u001b[0;32m   1163\u001b[0m     line_terminator\u001b[38;5;241m=\u001b[39mline_terminator,\n\u001b[1;32m   (...)\u001b[0m\n\u001b[0;32m   1178\u001b[0m     formatter\u001b[38;5;241m=\u001b[39m\u001b[38;5;28mself\u001b[39m\u001b[38;5;241m.\u001b[39mfmt,\n\u001b[0;32m   1179\u001b[0m )\n\u001b[1;32m-> 1180\u001b[0m \u001b[43mcsv_formatter\u001b[49m\u001b[38;5;241;43m.\u001b[39;49m\u001b[43msave\u001b[49m\u001b[43m(\u001b[49m\u001b[43m)\u001b[49m\n\u001b[0;32m   1182\u001b[0m \u001b[38;5;28;01mif\u001b[39;00m created_buffer:\n\u001b[0;32m   1183\u001b[0m     \u001b[38;5;28;01massert\u001b[39;00m \u001b[38;5;28misinstance\u001b[39m(path_or_buf, StringIO)\n",
      "File \u001b[1;32m~\\AppData\\Roaming\\Python\\Python39\\site-packages\\pandas\\io\\formats\\csvs.py:241\u001b[0m, in \u001b[0;36mCSVFormatter.save\u001b[1;34m(self)\u001b[0m\n\u001b[0;32m    237\u001b[0m \u001b[38;5;124;03m\"\"\"\u001b[39;00m\n\u001b[0;32m    238\u001b[0m \u001b[38;5;124;03mCreate the writer & save.\u001b[39;00m\n\u001b[0;32m    239\u001b[0m \u001b[38;5;124;03m\"\"\"\u001b[39;00m\n\u001b[0;32m    240\u001b[0m \u001b[38;5;66;03m# apply compression and byte/text conversion\u001b[39;00m\n\u001b[1;32m--> 241\u001b[0m \u001b[38;5;28;01mwith\u001b[39;00m \u001b[43mget_handle\u001b[49m\u001b[43m(\u001b[49m\n\u001b[0;32m    242\u001b[0m \u001b[43m    \u001b[49m\u001b[38;5;28;43mself\u001b[39;49m\u001b[38;5;241;43m.\u001b[39;49m\u001b[43mfilepath_or_buffer\u001b[49m\u001b[43m,\u001b[49m\n\u001b[0;32m    243\u001b[0m \u001b[43m    \u001b[49m\u001b[38;5;28;43mself\u001b[39;49m\u001b[38;5;241;43m.\u001b[39;49m\u001b[43mmode\u001b[49m\u001b[43m,\u001b[49m\n\u001b[0;32m    244\u001b[0m \u001b[43m    \u001b[49m\u001b[43mencoding\u001b[49m\u001b[38;5;241;43m=\u001b[39;49m\u001b[38;5;28;43mself\u001b[39;49m\u001b[38;5;241;43m.\u001b[39;49m\u001b[43mencoding\u001b[49m\u001b[43m,\u001b[49m\n\u001b[0;32m    245\u001b[0m \u001b[43m    \u001b[49m\u001b[43merrors\u001b[49m\u001b[38;5;241;43m=\u001b[39;49m\u001b[38;5;28;43mself\u001b[39;49m\u001b[38;5;241;43m.\u001b[39;49m\u001b[43merrors\u001b[49m\u001b[43m,\u001b[49m\n\u001b[0;32m    246\u001b[0m \u001b[43m    \u001b[49m\u001b[43mcompression\u001b[49m\u001b[38;5;241;43m=\u001b[39;49m\u001b[38;5;28;43mself\u001b[39;49m\u001b[38;5;241;43m.\u001b[39;49m\u001b[43mcompression\u001b[49m\u001b[43m,\u001b[49m\n\u001b[0;32m    247\u001b[0m \u001b[43m    \u001b[49m\u001b[43mstorage_options\u001b[49m\u001b[38;5;241;43m=\u001b[39;49m\u001b[38;5;28;43mself\u001b[39;49m\u001b[38;5;241;43m.\u001b[39;49m\u001b[43mstorage_options\u001b[49m\u001b[43m,\u001b[49m\n\u001b[0;32m    248\u001b[0m \u001b[43m\u001b[49m\u001b[43m)\u001b[49m \u001b[38;5;28;01mas\u001b[39;00m handles:\n\u001b[0;32m    249\u001b[0m \n\u001b[0;32m    250\u001b[0m     \u001b[38;5;66;03m# Note: self.encoding is irrelevant here\u001b[39;00m\n\u001b[0;32m    251\u001b[0m     \u001b[38;5;28mself\u001b[39m\u001b[38;5;241m.\u001b[39mwriter \u001b[38;5;241m=\u001b[39m csvlib\u001b[38;5;241m.\u001b[39mwriter(\n\u001b[0;32m    252\u001b[0m         handles\u001b[38;5;241m.\u001b[39mhandle,\n\u001b[0;32m    253\u001b[0m         lineterminator\u001b[38;5;241m=\u001b[39m\u001b[38;5;28mself\u001b[39m\u001b[38;5;241m.\u001b[39mline_terminator,\n\u001b[1;32m   (...)\u001b[0m\n\u001b[0;32m    258\u001b[0m         quotechar\u001b[38;5;241m=\u001b[39m\u001b[38;5;28mself\u001b[39m\u001b[38;5;241m.\u001b[39mquotechar,\n\u001b[0;32m    259\u001b[0m     )\n\u001b[0;32m    261\u001b[0m     \u001b[38;5;28mself\u001b[39m\u001b[38;5;241m.\u001b[39m_save()\n",
      "File \u001b[1;32m~\\AppData\\Roaming\\Python\\Python39\\site-packages\\pandas\\io\\common.py:694\u001b[0m, in \u001b[0;36mget_handle\u001b[1;34m(path_or_buf, mode, encoding, compression, memory_map, is_text, errors, storage_options)\u001b[0m\n\u001b[0;32m    692\u001b[0m \u001b[38;5;66;03m# Only for write methods\u001b[39;00m\n\u001b[0;32m    693\u001b[0m \u001b[38;5;28;01mif\u001b[39;00m \u001b[38;5;124m\"\u001b[39m\u001b[38;5;124mr\u001b[39m\u001b[38;5;124m\"\u001b[39m \u001b[38;5;129;01mnot\u001b[39;00m \u001b[38;5;129;01min\u001b[39;00m mode \u001b[38;5;129;01mand\u001b[39;00m is_path:\n\u001b[1;32m--> 694\u001b[0m     \u001b[43mcheck_parent_directory\u001b[49m\u001b[43m(\u001b[49m\u001b[38;5;28;43mstr\u001b[39;49m\u001b[43m(\u001b[49m\u001b[43mhandle\u001b[49m\u001b[43m)\u001b[49m\u001b[43m)\u001b[49m\n\u001b[0;32m    696\u001b[0m \u001b[38;5;28;01mif\u001b[39;00m compression:\n\u001b[0;32m    697\u001b[0m     \u001b[38;5;28;01mif\u001b[39;00m compression \u001b[38;5;241m!=\u001b[39m \u001b[38;5;124m\"\u001b[39m\u001b[38;5;124mzstd\u001b[39m\u001b[38;5;124m\"\u001b[39m:\n\u001b[0;32m    698\u001b[0m         \u001b[38;5;66;03m# compression libraries do not like an explicit text-mode\u001b[39;00m\n",
      "File \u001b[1;32m~\\AppData\\Roaming\\Python\\Python39\\site-packages\\pandas\\io\\common.py:568\u001b[0m, in \u001b[0;36mcheck_parent_directory\u001b[1;34m(path)\u001b[0m\n\u001b[0;32m    566\u001b[0m parent \u001b[38;5;241m=\u001b[39m Path(path)\u001b[38;5;241m.\u001b[39mparent\n\u001b[0;32m    567\u001b[0m \u001b[38;5;28;01mif\u001b[39;00m \u001b[38;5;129;01mnot\u001b[39;00m parent\u001b[38;5;241m.\u001b[39mis_dir():\n\u001b[1;32m--> 568\u001b[0m     \u001b[38;5;28;01mraise\u001b[39;00m \u001b[38;5;167;01mOSError\u001b[39;00m(\u001b[38;5;124mrf\u001b[39m\u001b[38;5;124m\"\u001b[39m\u001b[38;5;124mCannot save file into a non-existent directory: \u001b[39m\u001b[38;5;124m'\u001b[39m\u001b[38;5;132;01m{\u001b[39;00mparent\u001b[38;5;132;01m}\u001b[39;00m\u001b[38;5;124m'\u001b[39m\u001b[38;5;124m\"\u001b[39m)\n",
      "\u001b[1;31mOSError\u001b[0m: Cannot save file into a non-existent directory: 'n'"
     ]
    }
   ],
   "source": [
    "new_sales.to_csv(sell_manager +'_modified_sales.csv')"
   ]
  },
  {
   "cell_type": "code",
   "execution_count": null,
   "id": "d43d8106",
   "metadata": {},
   "outputs": [],
   "source": [
    "new_sales = pd.read_csv(sell_manager +'_modified_sales.csv')\n",
    "new_sales.head()"
   ]
  },
  {
   "cell_type": "markdown",
   "id": "eefaf936",
   "metadata": {},
   "source": [
    "### Update Current Stock file -> cStock - sales = cStock"
   ]
  },
  {
   "cell_type": "code",
   "execution_count": null,
   "id": "bac3176b",
   "metadata": {},
   "outputs": [],
   "source": []
  }
 ],
 "metadata": {
  "kernelspec": {
   "display_name": "Python 3 (ipykernel)",
   "language": "python",
   "name": "python3"
  },
  "language_info": {
   "codemirror_mode": {
    "name": "ipython",
    "version": 3
   },
   "file_extension": ".py",
   "mimetype": "text/x-python",
   "name": "python",
   "nbconvert_exporter": "python",
   "pygments_lexer": "ipython3",
   "version": "3.9.6"
  }
 },
 "nbformat": 4,
 "nbformat_minor": 5
}
