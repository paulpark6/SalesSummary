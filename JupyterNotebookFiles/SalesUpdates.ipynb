{
 "cells": [
  {
   "cell_type": "code",
   "execution_count": 1,
   "id": "5e4d7ac3",
   "metadata": {},
   "outputs": [],
   "source": [
    "import pandas as pd\n",
    "import os"
   ]
  },
  {
   "cell_type": "code",
   "execution_count": 2,
   "id": "dc70052b",
   "metadata": {},
   "outputs": [],
   "source": [
    "path_data = \"C:/GitHub-Projects/DataAnalysis/Sales Analysis/SalesSummary/DataBase/\""
   ]
  },
  {
   "cell_type": "code",
   "execution_count": 8,
   "id": "2e63178b",
   "metadata": {
    "scrolled": true
   },
   "outputs": [
    {
     "name": "stdout",
     "output_type": "stream",
     "text": [
      "option [ 1 ]:  clients.csv\n",
      "option [ 2 ]:  ogPrice.csv\n",
      "option [ 3 ]:  price_list_AUG.csv\n",
      "option [ 4 ]:  sales.csv\n",
      "option [ 5 ]:  stock_price.csv\n"
     ]
    }
   ],
   "source": [
    "dirs=os.listdir(path_data)\n",
    "for d in dirs:\n",
    "    print(\"option [\" , dirs.index(d) + 1 , \"]: \" , d)"
   ]
  },
  {
   "cell_type": "markdown",
   "id": "53cda9ce",
   "metadata": {},
   "source": [
    "## Sales File Name"
   ]
  },
  {
   "cell_type": "code",
   "execution_count": 4,
   "id": "8b32d91c",
   "metadata": {
    "scrolled": true
   },
   "outputs": [
    {
     "name": "stdout",
     "output_type": "stream",
     "text": [
      "Enter File Name For Salessales.csv\n"
     ]
    }
   ],
   "source": [
    "file_sales = input('Enter File Name For Sales: ')"
   ]
  },
  {
   "cell_type": "markdown",
   "id": "2129702d",
   "metadata": {},
   "source": [
    "## Current Stock's File Name"
   ]
  },
  {
   "cell_type": "code",
   "execution_count": null,
   "id": "33c82bdb",
   "metadata": {},
   "outputs": [],
   "source": [
    "file_cstock = input('Enter File Name For Current Stock: ')"
   ]
  },
  {
   "cell_type": "markdown",
   "id": "c89d325c",
   "metadata": {},
   "source": [
    "### Imported Datasets"
   ]
  },
  {
   "cell_type": "code",
   "execution_count": 6,
   "id": "714aa432",
   "metadata": {},
   "outputs": [],
   "source": [
    "sales = pd.read_csv(path_data + file_sales)"
   ]
  },
  {
   "cell_type": "code",
   "execution_count": null,
   "id": "60c9fbd2",
   "metadata": {},
   "outputs": [],
   "source": [
    "cStock = pd.read_csv(path_data + file_cstock)"
   ]
  },
  {
   "cell_type": "markdown",
   "id": "179bc836",
   "metadata": {},
   "source": [
    "### Enter information for sales\n",
    "##### First enter product name to find code!"
   ]
  },
  {
   "cell_type": "code",
   "execution_count": null,
   "id": "a627a1c4",
   "metadata": {},
   "outputs": [],
   "source": [
    "product_name = input(\"Enter Product Name\")\n",
    "c_products = cStock[cStock['produits'].str.contains(product_name)]\n",
    "produits.loc[:,['code','produits', 'litrage']]"
   ]
  },
  {
   "cell_type": "code",
   "execution_count": 7,
   "id": "8f714389",
   "metadata": {},
   "outputs": [
    {
     "name": "stdout",
     "output_type": "stream",
     "text": [
      "Enter Product Name\n"
     ]
    }
   ],
   "source": [
    "product_name = input(\"Enter Product Name\")"
   ]
  },
  {
   "cell_type": "code",
   "execution_count": null,
   "id": "3368e417",
   "metadata": {},
   "outputs": [],
   "source": []
  }
 ],
 "metadata": {
  "kernelspec": {
   "display_name": "Python 3 (ipykernel)",
   "language": "python",
   "name": "python3"
  },
  "language_info": {
   "codemirror_mode": {
    "name": "ipython",
    "version": 3
   },
   "file_extension": ".py",
   "mimetype": "text/x-python",
   "name": "python",
   "nbconvert_exporter": "python",
   "pygments_lexer": "ipython3",
   "version": "3.9.6"
  }
 },
 "nbformat": 4,
 "nbformat_minor": 5
}
