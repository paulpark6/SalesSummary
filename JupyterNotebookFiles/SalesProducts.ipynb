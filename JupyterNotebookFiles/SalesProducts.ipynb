{
 "cells": [
  {
   "cell_type": "markdown",
   "id": "bb52ec99",
   "metadata": {},
   "source": [
    "## List Current Files In DataBase"
   ]
  },
  {
   "cell_type": "code",
   "execution_count": 1,
   "id": "3ed1a0d6",
   "metadata": {},
   "outputs": [],
   "source": [
    "import os\n",
    "import pandas as pd"
   ]
  },
  {
   "cell_type": "markdown",
   "id": "1435f13b",
   "metadata": {},
   "source": [
    "### Change Path Later \n",
    "-> path is just where you stored your data files"
   ]
  },
  {
   "cell_type": "code",
   "execution_count": 21,
   "id": "0dcb0156",
   "metadata": {},
   "outputs": [],
   "source": [
    "path = \"C:/GitHub-Projects/DataAnalysis/Sales Analysis/SalesSummary/DataBase\""
   ]
  },
  {
   "cell_type": "markdown",
   "id": "04ea1fad",
   "metadata": {},
   "source": [
    "#### Listing files in the path"
   ]
  },
  {
   "cell_type": "code",
   "execution_count": 22,
   "id": "64e2b41a",
   "metadata": {
    "scrolled": true
   },
   "outputs": [
    {
     "name": "stdout",
     "output_type": "stream",
     "text": [
      "option [ 1 ]:  clients.csv\n",
      "option [ 2 ]:  og_price.csv\n",
      "option [ 3 ]:  price_list_AUG.csv\n",
      "option [ 4 ]:  stock_price.csv\n"
     ]
    }
   ],
   "source": [
    "dirs=os.listdir(path)\n",
    "for d in dirs:\n",
    "    print(\"option [\" , dirs.index(d) + 1 , \"]: \" , d)"
   ]
  },
  {
   "cell_type": "markdown",
   "id": "cdeb8041",
   "metadata": {},
   "source": [
    "#### Copy Paste the File you want\n",
    "file has to be a sales file!"
   ]
  },
  {
   "cell_type": "code",
   "execution_count": 6,
   "id": "adbc5c05",
   "metadata": {},
   "outputs": [
    {
     "name": "stdout",
     "output_type": "stream",
     "text": [
      "Enter File Name (sample1.csv) NO WHITE_SPACE!: price_list_AUG.csv\n"
     ]
    }
   ],
   "source": [
    "file_name = input(\"Enter File Name (sample1.csv) NO WHITE_SPACE!: \")"
   ]
  },
  {
   "cell_type": "code",
   "execution_count": 10,
   "id": "1a3592fc",
   "metadata": {},
   "outputs": [
    {
     "name": "stdout",
     "output_type": "stream",
     "text": [
      "[WinError 2] The system cannot find the file specified: './DataBase/'\n",
      "C:\\Users\\03pau\n"
     ]
    }
   ],
   "source": [
    "%cd ./DataBase/"
   ]
  },
  {
   "cell_type": "code",
   "execution_count": 23,
   "id": "47db05fd",
   "metadata": {},
   "outputs": [],
   "source": [
    "file_path = path + \"/\"+file_name"
   ]
  },
  {
   "cell_type": "code",
   "execution_count": 31,
   "id": "b55a8268",
   "metadata": {},
   "outputs": [
    {
     "data": {
      "text/plain": [
       "'C:/GitHub-Projects/DataAnalysis/Sales Analysis/SalesSummary/DataBase/price_list_AUG.csv'"
      ]
     },
     "execution_count": 31,
     "metadata": {},
     "output_type": "execute_result"
    }
   ],
   "source": [
    "file_path"
   ]
  },
  {
   "cell_type": "markdown",
   "id": "35b43374",
   "metadata": {},
   "source": [
    "#### Shows First 3 lines of data found"
   ]
  },
  {
   "cell_type": "code",
   "execution_count": 13,
   "id": "0e256972",
   "metadata": {
    "scrolled": true
   },
   "outputs": [
    {
     "data": {
      "text/html": [
       "<div>\n",
       "<style scoped>\n",
       "    .dataframe tbody tr th:only-of-type {\n",
       "        vertical-align: middle;\n",
       "    }\n",
       "\n",
       "    .dataframe tbody tr th {\n",
       "        vertical-align: top;\n",
       "    }\n",
       "\n",
       "    .dataframe thead th {\n",
       "        text-align: right;\n",
       "    }\n",
       "</style>\n",
       "<table border=\"1\" class=\"dataframe\">\n",
       "  <thead>\n",
       "    <tr style=\"text-align: right;\">\n",
       "      <th></th>\n",
       "      <th>code</th>\n",
       "      <th>produits</th>\n",
       "      <th>litrage</th>\n",
       "      <th>PAO au Synth?tique</th>\n",
       "      <th>type de moteur</th>\n",
       "      <th>Prix de grossiste</th>\n",
       "      <th>prix de grossiste 1</th>\n",
       "      <th>prix de grossiste 2</th>\n",
       "      <th>prix de taillant</th>\n",
       "    </tr>\n",
       "  </thead>\n",
       "  <tbody>\n",
       "    <tr>\n",
       "      <th>0</th>\n",
       "      <td>E107746</td>\n",
       "      <td>S-OIL 7 GOLD #9 PAO C3 0W-40</td>\n",
       "      <td>1L</td>\n",
       "      <td>100 % PAO</td>\n",
       "      <td>tout type</td>\n",
       "      <td>10,000</td>\n",
       "      <td>13,000</td>\n",
       "      <td>15,000</td>\n",
       "      <td>20,000</td>\n",
       "    </tr>\n",
       "    <tr>\n",
       "      <th>1</th>\n",
       "      <td>E107745</td>\n",
       "      <td>S-OIL 7 GOLD #9 PAO C3 0W-40</td>\n",
       "      <td>200L</td>\n",
       "      <td>100 % PAO</td>\n",
       "      <td>tout type</td>\n",
       "      <td>1,500,000</td>\n",
       "      <td>1,600,000</td>\n",
       "      <td>1,700,000</td>\n",
       "      <td>-</td>\n",
       "    </tr>\n",
       "    <tr>\n",
       "      <th>2</th>\n",
       "      <td>E107742</td>\n",
       "      <td>S-OIL 7 GOLD #9 PAO C3 5W-30</td>\n",
       "      <td>4L</td>\n",
       "      <td>melange de PAO et de synth?tique</td>\n",
       "      <td>tout type</td>\n",
       "      <td>22,000</td>\n",
       "      <td>25,000</td>\n",
       "      <td>30,000</td>\n",
       "      <td>40,000</td>\n",
       "    </tr>\n",
       "  </tbody>\n",
       "</table>\n",
       "</div>"
      ],
      "text/plain": [
       "      code                       produits litrage  \\\n",
       "0  E107746  S-OIL 7 GOLD #9 PAO C3 0W-40      1L    \n",
       "1  E107745  S-OIL 7 GOLD #9 PAO C3 0W-40     200L   \n",
       "2  E107742  S-OIL 7 GOLD #9 PAO C3 5W-30      4L    \n",
       "\n",
       "                  PAO au Synth?tique  type de moteur Prix de grossiste  \\\n",
       "0                          100 % PAO      tout type             10,000   \n",
       "1                          100 % PAO      tout type          1,500,000   \n",
       "2   melange de PAO et de synth?tique      tout type             22,000   \n",
       "\n",
       "  prix de grossiste 1 prix de grossiste 2 prix de taillant  \n",
       "0              13,000              15,000           20,000  \n",
       "1           1,600,000           1,700,000               -   \n",
       "2              25,000              30,000           40,000  "
      ]
     },
     "execution_count": 13,
     "metadata": {},
     "output_type": "execute_result"
    }
   ],
   "source": [
    "data = pd.read_csv(file_path)\n",
    "data.head(3)"
   ]
  },
  {
   "cell_type": "markdown",
   "id": "3b76892e",
   "metadata": {},
   "source": [
    "### Enter Product Name"
   ]
  },
  {
   "cell_type": "code",
   "execution_count": 24,
   "id": "8bc356a2",
   "metadata": {},
   "outputs": [
    {
     "name": "stdout",
     "output_type": "stream",
     "text": [
      "Enter Product Name40\n"
     ]
    },
    {
     "data": {
      "text/html": [
       "<div>\n",
       "<style scoped>\n",
       "    .dataframe tbody tr th:only-of-type {\n",
       "        vertical-align: middle;\n",
       "    }\n",
       "\n",
       "    .dataframe tbody tr th {\n",
       "        vertical-align: top;\n",
       "    }\n",
       "\n",
       "    .dataframe thead th {\n",
       "        text-align: right;\n",
       "    }\n",
       "</style>\n",
       "<table border=\"1\" class=\"dataframe\">\n",
       "  <thead>\n",
       "    <tr style=\"text-align: right;\">\n",
       "      <th></th>\n",
       "      <th>code</th>\n",
       "      <th>produits</th>\n",
       "      <th>litrage</th>\n",
       "    </tr>\n",
       "  </thead>\n",
       "  <tbody>\n",
       "    <tr>\n",
       "      <th>0</th>\n",
       "      <td>E107746</td>\n",
       "      <td>S-OIL 7 GOLD #9 PAO C3 0W-40</td>\n",
       "      <td>1L</td>\n",
       "    </tr>\n",
       "    <tr>\n",
       "      <th>1</th>\n",
       "      <td>E107745</td>\n",
       "      <td>S-OIL 7 GOLD #9 PAO C3 0W-40</td>\n",
       "      <td>200L</td>\n",
       "    </tr>\n",
       "    <tr>\n",
       "      <th>3</th>\n",
       "      <td>E107761</td>\n",
       "      <td>S-OIL 7 GOLD #9 C3 5W-40</td>\n",
       "      <td>1L</td>\n",
       "    </tr>\n",
       "    <tr>\n",
       "      <th>4</th>\n",
       "      <td>E107757</td>\n",
       "      <td>S-OIL 7 GOLD #9 C3 5W-40</td>\n",
       "      <td>4L</td>\n",
       "    </tr>\n",
       "    <tr>\n",
       "      <th>5</th>\n",
       "      <td>E107759</td>\n",
       "      <td>S-OIL 7 GOLD #9 C3 5W-40</td>\n",
       "      <td>200L</td>\n",
       "    </tr>\n",
       "    <tr>\n",
       "      <th>6</th>\n",
       "      <td>E107618</td>\n",
       "      <td>S-OIL 7 RED #9 SN 5W-40</td>\n",
       "      <td>1L</td>\n",
       "    </tr>\n",
       "    <tr>\n",
       "      <th>7</th>\n",
       "      <td>E107616</td>\n",
       "      <td>S-OIL 7 RED #9 SN 5W-40</td>\n",
       "      <td>4L</td>\n",
       "    </tr>\n",
       "    <tr>\n",
       "      <th>8</th>\n",
       "      <td>E107612</td>\n",
       "      <td>S-OIL 7 RED #9 SN 5W-40 (200)</td>\n",
       "      <td>200L</td>\n",
       "    </tr>\n",
       "    <tr>\n",
       "      <th>9</th>\n",
       "      <td>E107635</td>\n",
       "      <td>S-OIL 7 RED #9 SN 10W-40</td>\n",
       "      <td>1L</td>\n",
       "    </tr>\n",
       "    <tr>\n",
       "      <th>10</th>\n",
       "      <td>E107633</td>\n",
       "      <td>S-OIL 7 RED #9 SN 10W-40</td>\n",
       "      <td>4L</td>\n",
       "    </tr>\n",
       "    <tr>\n",
       "      <th>11</th>\n",
       "      <td>E107634</td>\n",
       "      <td>S-OIL 7 RED #9 SN 10W-40</td>\n",
       "      <td>200L</td>\n",
       "    </tr>\n",
       "    <tr>\n",
       "      <th>17</th>\n",
       "      <td>E107880</td>\n",
       "      <td>S-OIL 7 BLUE #7 CI-4/SL 10W-40 (20)</td>\n",
       "      <td>20L</td>\n",
       "    </tr>\n",
       "    <tr>\n",
       "      <th>18</th>\n",
       "      <td>E107879</td>\n",
       "      <td>S-OIL 7 BLUE #7 CI-4/SL 10W-40</td>\n",
       "      <td>200L</td>\n",
       "    </tr>\n",
       "    <tr>\n",
       "      <th>19</th>\n",
       "      <td>E107848</td>\n",
       "      <td>S-OIL 7 BLUE #9 CI-4/SL 15W-40</td>\n",
       "      <td>1L</td>\n",
       "    </tr>\n",
       "    <tr>\n",
       "      <th>20</th>\n",
       "      <td>E107844</td>\n",
       "      <td>S-OIL 7 BLUE #9 CI-4/SL 15W-40</td>\n",
       "      <td>5L</td>\n",
       "    </tr>\n",
       "    <tr>\n",
       "      <th>21</th>\n",
       "      <td>E107847</td>\n",
       "      <td>S-OIL 7 BLUE #9 CI-4/SL 15W-40</td>\n",
       "      <td>20L</td>\n",
       "    </tr>\n",
       "    <tr>\n",
       "      <th>22</th>\n",
       "      <td>E107846</td>\n",
       "      <td>S-OIL 7 BLUE #9 CI-4/SL 15W-40</td>\n",
       "      <td>200L</td>\n",
       "    </tr>\n",
       "    <tr>\n",
       "      <th>25</th>\n",
       "      <td>E107799</td>\n",
       "      <td>S-OIL 7 GEAR HD 85W-140</td>\n",
       "      <td>20L</td>\n",
       "    </tr>\n",
       "    <tr>\n",
       "      <th>26</th>\n",
       "      <td>E107798</td>\n",
       "      <td>S-OIL 7 GEAR HD 85W-140</td>\n",
       "      <td>200L</td>\n",
       "    </tr>\n",
       "  </tbody>\n",
       "</table>\n",
       "</div>"
      ],
      "text/plain": [
       "       code                             produits litrage\n",
       "0   E107746        S-OIL 7 GOLD #9 PAO C3 0W-40      1L \n",
       "1   E107745        S-OIL 7 GOLD #9 PAO C3 0W-40     200L\n",
       "3   E107761            S-OIL 7 GOLD #9 C3 5W-40      1L \n",
       "4   E107757            S-OIL 7 GOLD #9 C3 5W-40      4L \n",
       "5   E107759            S-OIL 7 GOLD #9 C3 5W-40     200L\n",
       "6   E107618             S-OIL 7 RED #9 SN 5W-40      1L \n",
       "7   E107616             S-OIL 7 RED #9 SN 5W-40      4L \n",
       "8   E107612        S-OIL 7 RED #9 SN 5W-40 (200)    200L\n",
       "9   E107635            S-OIL 7 RED #9 SN 10W-40      1L \n",
       "10  E107633            S-OIL 7 RED #9 SN 10W-40      4L \n",
       "11  E107634            S-OIL 7 RED #9 SN 10W-40     200L\n",
       "17  E107880  S-OIL 7 BLUE #7 CI-4/SL 10W-40 (20)     20L\n",
       "18  E107879       S-OIL 7 BLUE #7 CI-4/SL 10W-40    200L\n",
       "19  E107848       S-OIL 7 BLUE #9 CI-4/SL 15W-40     1L \n",
       "20  E107844      S-OIL 7 BLUE #9 CI-4/SL 15W-40      5L \n",
       "21  E107847      S-OIL 7 BLUE #9 CI-4/SL 15W-40      20L\n",
       "22  E107846      S-OIL 7 BLUE #9 CI-4/SL 15W-40     200L\n",
       "25  E107799             S-OIL 7 GEAR HD 85W-140      20L\n",
       "26  E107798             S-OIL 7 GEAR HD 85W-140     200L"
      ]
     },
     "execution_count": 24,
     "metadata": {},
     "output_type": "execute_result"
    }
   ],
   "source": [
    "search = input(\"Enter Product Name\")\n",
    "produits = data[data['produits'].str.contains(search)]\n",
    "produits.loc[:,['code','produits', 'litrage']]"
   ]
  },
  {
   "cell_type": "markdown",
   "id": "edbb79f1",
   "metadata": {},
   "source": [
    "### Enter Product's Code Name"
   ]
  },
  {
   "cell_type": "code",
   "execution_count": 25,
   "id": "3f14fdf2",
   "metadata": {},
   "outputs": [
    {
     "name": "stdout",
     "output_type": "stream",
     "text": [
      "EnterCode Name: E107846\n"
     ]
    }
   ],
   "source": [
    "code = input(\"EnterCode Name: \")"
   ]
  },
  {
   "cell_type": "markdown",
   "id": "162a4751",
   "metadata": {},
   "source": [
    "#### Listing Available Types"
   ]
  },
  {
   "cell_type": "code",
   "execution_count": 26,
   "id": "c5341403",
   "metadata": {
    "scrolled": true
   },
   "outputs": [
    {
     "name": "stdout",
     "output_type": "stream",
     "text": [
      "Types:  Prix de grossiste\n",
      "Types:  prix de grossiste 1\n",
      "Types:  prix de grossiste 2\n",
      "Types:  prix de taillant\n"
     ]
    }
   ],
   "source": [
    "tpys = data.columns\n",
    "for i in range(len(tpys)):\n",
    "    if i > 4:\n",
    "        print(\"Types: \", tpys[i])"
   ]
  },
  {
   "cell_type": "markdown",
   "id": "b6ffb5a6",
   "metadata": {},
   "source": [
    "#### Enter Product Type from above"
   ]
  },
  {
   "cell_type": "code",
   "execution_count": 28,
   "id": "b880b324",
   "metadata": {
    "scrolled": false
   },
   "outputs": [
    {
     "name": "stdout",
     "output_type": "stream",
     "text": [
      "Enter Product Type: prix de taillant\n"
     ]
    }
   ],
   "source": [
    "product_type = input(\"Enter Product Type: \")"
   ]
  },
  {
   "cell_type": "markdown",
   "id": "99b941ad",
   "metadata": {},
   "source": [
    "#### Final"
   ]
  },
  {
   "cell_type": "code",
   "execution_count": 30,
   "id": "7ae53324",
   "metadata": {
    "scrolled": false
   },
   "outputs": [
    {
     "data": {
      "text/html": [
       "<div>\n",
       "<style scoped>\n",
       "    .dataframe tbody tr th:only-of-type {\n",
       "        vertical-align: middle;\n",
       "    }\n",
       "\n",
       "    .dataframe tbody tr th {\n",
       "        vertical-align: top;\n",
       "    }\n",
       "\n",
       "    .dataframe thead th {\n",
       "        text-align: right;\n",
       "    }\n",
       "</style>\n",
       "<table border=\"1\" class=\"dataframe\">\n",
       "  <thead>\n",
       "    <tr style=\"text-align: right;\">\n",
       "      <th></th>\n",
       "      <th>code</th>\n",
       "      <th>produits</th>\n",
       "      <th>prix de taillant</th>\n",
       "    </tr>\n",
       "  </thead>\n",
       "  <tbody>\n",
       "    <tr>\n",
       "      <th>22</th>\n",
       "      <td>E107846</td>\n",
       "      <td>S-OIL 7 BLUE #9 CI-4/SL 15W-40</td>\n",
       "      <td>-</td>\n",
       "    </tr>\n",
       "  </tbody>\n",
       "</table>\n",
       "</div>"
      ],
      "text/plain": [
       "       code                         produits prix de taillant\n",
       "22  E107846  S-OIL 7 BLUE #9 CI-4/SL 15W-40                - "
      ]
     },
     "execution_count": 30,
     "metadata": {},
     "output_type": "execute_result"
    }
   ],
   "source": [
    "product = data.loc[data['code']==code]\n",
    "product.loc[:, ['code', 'produits', product_type]]\n"
   ]
  }
 ],
 "metadata": {
  "kernelspec": {
   "display_name": "Python 3 (ipykernel)",
   "language": "python",
   "name": "python3"
  },
  "language_info": {
   "codemirror_mode": {
    "name": "ipython",
    "version": 3
   },
   "file_extension": ".py",
   "mimetype": "text/x-python",
   "name": "python",
   "nbconvert_exporter": "python",
   "pygments_lexer": "ipython3",
   "version": "3.9.6"
  },
  "vscode": {
   "interpreter": {
    "hash": "44a50b1badeca22992fbf891e6885400eebeeada9f277cc867bef87bc3d6f19c"
   }
  }
 },
 "nbformat": 4,
 "nbformat_minor": 5
}
