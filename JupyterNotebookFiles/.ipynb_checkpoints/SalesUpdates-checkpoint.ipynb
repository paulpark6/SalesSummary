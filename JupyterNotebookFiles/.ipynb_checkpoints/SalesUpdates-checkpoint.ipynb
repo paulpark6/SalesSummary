{
 "cells": [
  {
   "cell_type": "code",
   "execution_count": 5,
   "id": "063cca6c",
   "metadata": {},
   "outputs": [],
   "source": [
    "import pandas as pd\n",
    "import os"
   ]
  },
  {
   "cell_type": "code",
   "execution_count": 13,
   "id": "fa438618",
   "metadata": {},
   "outputs": [],
   "source": [
    "path_sales = \"C:/GitHub-Projects/DataAnalysis/Sales Analysis/SalesSummary/DataBase/\""
   ]
  },
  {
   "cell_type": "code",
   "execution_count": 14,
   "id": "4a5035e2",
   "metadata": {},
   "outputs": [
    {
     "name": "stdout",
     "output_type": "stream",
     "text": [
      "option [ 1 ]:  clients.csv\n",
      "option [ 2 ]:  ogPrice.csv\n",
      "option [ 3 ]:  price_list_AUG.csv\n",
      "option [ 4 ]:  sales.csv\n",
      "option [ 5 ]:  stock_price.csv\n"
     ]
    }
   ],
   "source": [
    "dirs=os.listdir(path_sales)\n",
    "for d in dirs:\n",
    "    print(\"option [\" , dirs.index(d) + 1 , \"]: \" , d)"
   ]
  },
  {
   "cell_type": "code",
   "execution_count": 15,
   "id": "baf47745",
   "metadata": {},
   "outputs": [
    {
     "name": "stdout",
     "output_type": "stream",
     "text": [
      "Enter File Name For Salessales.csv\n"
     ]
    }
   ],
   "source": [
    "file_name = input('Enter File Name For Sales')"
   ]
  },
  {
   "cell_type": "markdown",
   "id": "89156683",
   "metadata": {},
   "source": [
    "### Imported Datasets"
   ]
  },
  {
   "cell_type": "code",
   "execution_count": 16,
   "id": "ad0be631",
   "metadata": {},
   "outputs": [],
   "source": [
    "sales = pd.read_csv(path + file_name)"
   ]
  },
  {
   "cell_type": "code",
   "execution_count": null,
   "id": "989632f6",
   "metadata": {},
   "outputs": [],
   "source": []
  },
  {
   "cell_type": "markdown",
   "id": "f7f81068",
   "metadata": {},
   "source": [
    "### Enter information for sales"
   ]
  },
  {
   "cell_type": "code",
   "execution_count": null,
   "id": "8624bb13",
   "metadata": {},
   "outputs": [],
   "source": [
    "product_name = input(\"Enter Product Name\")"
   ]
  }
 ],
 "metadata": {
  "kernelspec": {
   "display_name": "Python 3 (ipykernel)",
   "language": "python",
   "name": "python3"
  },
  "language_info": {
   "codemirror_mode": {
    "name": "ipython",
    "version": 3
   },
   "file_extension": ".py",
   "mimetype": "text/x-python",
   "name": "python",
   "nbconvert_exporter": "python",
   "pygments_lexer": "ipython3",
   "version": "3.9.6"
  }
 },
 "nbformat": 4,
 "nbformat_minor": 5
}
