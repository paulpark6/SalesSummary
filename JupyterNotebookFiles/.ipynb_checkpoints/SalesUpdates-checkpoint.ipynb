{
 "cells": [
  {
   "cell_type": "code",
   "execution_count": 1,
   "id": "0795778f",
   "metadata": {},
   "outputs": [],
   "source": [
    "import pandas as pd\n",
    "import os"
   ]
  },
  {
   "cell_type": "code",
   "execution_count": 2,
   "id": "b8ae09f0",
   "metadata": {},
   "outputs": [],
   "source": [
    "path_data = \"C:/GitHub-Projects/DataAnalysis/Sales Analysis/SalesSummary/DataBase/\""
   ]
  },
  {
   "cell_type": "code",
   "execution_count": 3,
   "id": "2adfb4c1",
   "metadata": {
    "scrolled": true
   },
   "outputs": [
    {
     "name": "stdout",
     "output_type": "stream",
     "text": [
      "option [ 1 ]:  clients.csv\n",
      "option [ 2 ]:  ogPrice.csv\n",
      "option [ 3 ]:  sales.csv\n",
      "option [ 4 ]:  sales_price_types.csv\n",
      "option [ 5 ]:  stock_price.csv\n"
     ]
    }
   ],
   "source": [
    "dirs=os.listdir(path_data)\n",
    "for d in dirs:\n",
    "    print(\"option [\" , dirs.index(d) + 1 , \"]: \" , d)"
   ]
  },
  {
   "cell_type": "markdown",
   "id": "2dd4c216",
   "metadata": {},
   "source": [
    "## Sales File Name"
   ]
  },
  {
   "cell_type": "code",
   "execution_count": 4,
   "id": "c687d346",
   "metadata": {
    "scrolled": true
   },
   "outputs": [
    {
     "name": "stdout",
     "output_type": "stream",
     "text": [
      "Enter File Name For Sales: sales.csv\n"
     ]
    }
   ],
   "source": [
    "file_sales = input('Enter File Name For Sales: ')"
   ]
  },
  {
   "cell_type": "markdown",
   "id": "a7b3357d",
   "metadata": {},
   "source": [
    "## Current Stock's File Name"
   ]
  },
  {
   "cell_type": "code",
   "execution_count": 5,
   "id": "2e72f373",
   "metadata": {},
   "outputs": [
    {
     "name": "stdout",
     "output_type": "stream",
     "text": [
      "Enter File Name For Current Stock: sales_price_types.csv\n"
     ]
    }
   ],
   "source": [
    "file_cstock = input('Enter File Name For Current Stock: ')"
   ]
  },
  {
   "cell_type": "markdown",
   "id": "e7b07ff8",
   "metadata": {},
   "source": [
    "## Enter file name for list of Clients"
   ]
  },
  {
   "cell_type": "code",
   "execution_count": 6,
   "id": "0507444d",
   "metadata": {},
   "outputs": [
    {
     "name": "stdout",
     "output_type": "stream",
     "text": [
      "Enter File Name For List Of Clients: clients.csv\n"
     ]
    }
   ],
   "source": [
    "file_client = input('Enter File Name For List Of Clients: ')"
   ]
  },
  {
   "cell_type": "markdown",
   "id": "cbbfa7e5",
   "metadata": {},
   "source": [
    "### Imported Datasets"
   ]
  },
  {
   "cell_type": "code",
   "execution_count": 7,
   "id": "a8359cd1",
   "metadata": {},
   "outputs": [],
   "source": [
    "sales = pd.read_csv(path_data + file_sales)"
   ]
  },
  {
   "cell_type": "code",
   "execution_count": 13,
   "id": "d121e476",
   "metadata": {},
   "outputs": [
    {
     "data": {
      "text/html": [
       "<div>\n",
       "<style scoped>\n",
       "    .dataframe tbody tr th:only-of-type {\n",
       "        vertical-align: middle;\n",
       "    }\n",
       "\n",
       "    .dataframe tbody tr th {\n",
       "        vertical-align: top;\n",
       "    }\n",
       "\n",
       "    .dataframe thead th {\n",
       "        text-align: right;\n",
       "    }\n",
       "</style>\n",
       "<table border=\"1\" class=\"dataframe\">\n",
       "  <thead>\n",
       "    <tr style=\"text-align: right;\">\n",
       "      <th></th>\n",
       "      <th>code</th>\n",
       "      <th>produits</th>\n",
       "      <th>litrage</th>\n",
       "      <th>PAO au Synth?tique</th>\n",
       "      <th>type de moteur</th>\n",
       "      <th>Prix de grossiste</th>\n",
       "      <th>prix de grossiste 1</th>\n",
       "      <th>prix de grossiste 2</th>\n",
       "      <th>prix de taillant</th>\n",
       "    </tr>\n",
       "  </thead>\n",
       "  <tbody>\n",
       "    <tr>\n",
       "      <th>0</th>\n",
       "      <td>E107746</td>\n",
       "      <td>S-OIL 7 GOLD #9 PAO C3 0W-40</td>\n",
       "      <td>1L</td>\n",
       "      <td>100 % PAO</td>\n",
       "      <td>tout type</td>\n",
       "      <td>10,000</td>\n",
       "      <td>13,000</td>\n",
       "      <td>15,000</td>\n",
       "      <td>20,000</td>\n",
       "    </tr>\n",
       "    <tr>\n",
       "      <th>1</th>\n",
       "      <td>E107745</td>\n",
       "      <td>S-OIL 7 GOLD #9 PAO C3 0W-40</td>\n",
       "      <td>200L</td>\n",
       "      <td>100 % PAO</td>\n",
       "      <td>tout type</td>\n",
       "      <td>1,500,000</td>\n",
       "      <td>1,600,000</td>\n",
       "      <td>1,700,000</td>\n",
       "      <td>-</td>\n",
       "    </tr>\n",
       "    <tr>\n",
       "      <th>2</th>\n",
       "      <td>E107742</td>\n",
       "      <td>S-OIL 7 GOLD #9 PAO C3 5W-30</td>\n",
       "      <td>4L</td>\n",
       "      <td>melange de PAO et de synth?tique</td>\n",
       "      <td>tout type</td>\n",
       "      <td>22,000</td>\n",
       "      <td>25,000</td>\n",
       "      <td>30,000</td>\n",
       "      <td>40,000</td>\n",
       "    </tr>\n",
       "    <tr>\n",
       "      <th>3</th>\n",
       "      <td>E107761</td>\n",
       "      <td>S-OIL 7 GOLD #9 C3 5W-40</td>\n",
       "      <td>1L</td>\n",
       "      <td>100% synth?tique</td>\n",
       "      <td>tout type</td>\n",
       "      <td>5,200</td>\n",
       "      <td>6,000</td>\n",
       "      <td>7,000</td>\n",
       "      <td>9,000</td>\n",
       "    </tr>\n",
       "    <tr>\n",
       "      <th>4</th>\n",
       "      <td>E107757</td>\n",
       "      <td>S-OIL 7 GOLD #9 C3 5W-40</td>\n",
       "      <td>4L</td>\n",
       "      <td>100% synth?tique</td>\n",
       "      <td>tout type</td>\n",
       "      <td>20,000</td>\n",
       "      <td>18,500</td>\n",
       "      <td>20,000</td>\n",
       "      <td>26,000</td>\n",
       "    </tr>\n",
       "    <tr>\n",
       "      <th>5</th>\n",
       "      <td>E107759</td>\n",
       "      <td>S-OIL 7 GOLD #9 C3 5W-40</td>\n",
       "      <td>200L</td>\n",
       "      <td>100% synth?tique</td>\n",
       "      <td>tout type</td>\n",
       "      <td>790,000</td>\n",
       "      <td>840,000</td>\n",
       "      <td>860,000</td>\n",
       "      <td>-</td>\n",
       "    </tr>\n",
       "    <tr>\n",
       "      <th>6</th>\n",
       "      <td>E107618</td>\n",
       "      <td>S-OIL 7 RED #9 SN 5W-40</td>\n",
       "      <td>1L</td>\n",
       "      <td>100% synth?tique</td>\n",
       "      <td>essence</td>\n",
       "      <td>3,800</td>\n",
       "      <td>4,300</td>\n",
       "      <td>5,000</td>\n",
       "      <td>6,500</td>\n",
       "    </tr>\n",
       "    <tr>\n",
       "      <th>7</th>\n",
       "      <td>E107616</td>\n",
       "      <td>S-OIL 7 RED #9 SN 5W-40</td>\n",
       "      <td>4L</td>\n",
       "      <td>100% synth?tique</td>\n",
       "      <td>essence</td>\n",
       "      <td>14,000</td>\n",
       "      <td>15,500</td>\n",
       "      <td>17,000</td>\n",
       "      <td>22,000</td>\n",
       "    </tr>\n",
       "    <tr>\n",
       "      <th>8</th>\n",
       "      <td>E107612</td>\n",
       "      <td>S-OIL 7 RED #9 SN 5W-40 (200)</td>\n",
       "      <td>200L</td>\n",
       "      <td>100% synth?tique</td>\n",
       "      <td>essence</td>\n",
       "      <td>630,000</td>\n",
       "      <td>680,000</td>\n",
       "      <td>720,000</td>\n",
       "      <td>-</td>\n",
       "    </tr>\n",
       "    <tr>\n",
       "      <th>9</th>\n",
       "      <td>E107635</td>\n",
       "      <td>S-OIL 7 RED #9 SN 10W-40</td>\n",
       "      <td>1L</td>\n",
       "      <td>100% synth?tique</td>\n",
       "      <td>essence</td>\n",
       "      <td>3,500</td>\n",
       "      <td>4,000</td>\n",
       "      <td>4,500</td>\n",
       "      <td>6,000</td>\n",
       "    </tr>\n",
       "  </tbody>\n",
       "</table>\n",
       "</div>"
      ],
      "text/plain": [
       "      code                       produits litrage  \\\n",
       "0  E107746  S-OIL 7 GOLD #9 PAO C3 0W-40      1L    \n",
       "1  E107745  S-OIL 7 GOLD #9 PAO C3 0W-40     200L   \n",
       "2  E107742  S-OIL 7 GOLD #9 PAO C3 5W-30      4L    \n",
       "3  E107761      S-OIL 7 GOLD #9 C3 5W-40      1L    \n",
       "4  E107757      S-OIL 7 GOLD #9 C3 5W-40      4L    \n",
       "5  E107759      S-OIL 7 GOLD #9 C3 5W-40     200L   \n",
       "6  E107618       S-OIL 7 RED #9 SN 5W-40      1L    \n",
       "7  E107616       S-OIL 7 RED #9 SN 5W-40      4L    \n",
       "8  E107612  S-OIL 7 RED #9 SN 5W-40 (200)    200L   \n",
       "9  E107635      S-OIL 7 RED #9 SN 10W-40      1L    \n",
       "\n",
       "                  PAO au Synth?tique  type de moteur Prix de grossiste  \\\n",
       "0                          100 % PAO      tout type             10,000   \n",
       "1                          100 % PAO      tout type          1,500,000   \n",
       "2   melange de PAO et de synth?tique      tout type             22,000   \n",
       "3                   100% synth?tique      tout type              5,200   \n",
       "4                   100% synth?tique      tout type             20,000   \n",
       "5                   100% synth?tique      tout type            790,000   \n",
       "6                   100% synth?tique        essence              3,800   \n",
       "7                   100% synth?tique        essence             14,000   \n",
       "8                   100% synth?tique        essence            630,000   \n",
       "9                   100% synth?tique        essence              3,500   \n",
       "\n",
       "  prix de grossiste 1 prix de grossiste 2 prix de taillant  \n",
       "0              13,000              15,000           20,000  \n",
       "1           1,600,000           1,700,000               -   \n",
       "2              25,000              30,000           40,000  \n",
       "3               6,000               7,000            9,000  \n",
       "4              18,500              20,000           26,000  \n",
       "5             840,000             860,000               -   \n",
       "6               4,300               5,000            6,500  \n",
       "7              15,500              17,000           22,000  \n",
       "8             680,000             720,000               -   \n",
       "9               4,000               4,500            6,000  "
      ]
     },
     "execution_count": 13,
     "metadata": {},
     "output_type": "execute_result"
    }
   ],
   "source": [
    "cStock = pd.read_csv(path_data + file_cstock)\n",
    "cStock.head(10)"
   ]
  },
  {
   "cell_type": "code",
   "execution_count": 9,
   "id": "72c7e5f6",
   "metadata": {},
   "outputs": [],
   "source": [
    "clients = pd.read_csv(path_data + file_client)"
   ]
  },
  {
   "cell_type": "markdown",
   "id": "3352db17",
   "metadata": {},
   "source": [
    "### Enter information for sales\n",
    "##### First enter product name to find code!"
   ]
  },
  {
   "cell_type": "code",
   "execution_count": 10,
   "id": "f52f7bf7",
   "metadata": {},
   "outputs": [
    {
     "name": "stdout",
     "output_type": "stream",
     "text": [
      "Enter Product Name50\n"
     ]
    },
    {
     "data": {
      "text/html": [
       "<div>\n",
       "<style scoped>\n",
       "    .dataframe tbody tr th:only-of-type {\n",
       "        vertical-align: middle;\n",
       "    }\n",
       "\n",
       "    .dataframe tbody tr th {\n",
       "        vertical-align: top;\n",
       "    }\n",
       "\n",
       "    .dataframe thead th {\n",
       "        text-align: right;\n",
       "    }\n",
       "</style>\n",
       "<table border=\"1\" class=\"dataframe\">\n",
       "  <thead>\n",
       "    <tr style=\"text-align: right;\">\n",
       "      <th></th>\n",
       "      <th>code</th>\n",
       "      <th>produits</th>\n",
       "      <th>litrage</th>\n",
       "    </tr>\n",
       "  </thead>\n",
       "  <tbody>\n",
       "  </tbody>\n",
       "</table>\n",
       "</div>"
      ],
      "text/plain": [
       "Empty DataFrame\n",
       "Columns: [code, produits, litrage]\n",
       "Index: []"
      ]
     },
     "execution_count": 10,
     "metadata": {},
     "output_type": "execute_result"
    }
   ],
   "source": [
    "product_name = input(\"Enter Product Name\")\n",
    "c_products = cStock[cStock['produits'].str.contains(product_name)]\n",
    "c_products.loc[:,['code','produits', 'litrage']]"
   ]
  },
  {
   "cell_type": "code",
   "execution_count": 11,
   "id": "fe1fe1ca",
   "metadata": {},
   "outputs": [
    {
     "name": "stdout",
     "output_type": "stream",
     "text": [
      "Enter Product Name..\n"
     ]
    }
   ],
   "source": [
    "product_name = input(\"Enter Product Name\")"
   ]
  },
  {
   "cell_type": "code",
   "execution_count": null,
   "id": "b644f8f0",
   "metadata": {},
   "outputs": [],
   "source": []
  }
 ],
 "metadata": {
  "kernelspec": {
   "display_name": "Python 3 (ipykernel)",
   "language": "python",
   "name": "python3"
  },
  "language_info": {
   "codemirror_mode": {
    "name": "ipython",
    "version": 3
   },
   "file_extension": ".py",
   "mimetype": "text/x-python",
   "name": "python",
   "nbconvert_exporter": "python",
   "pygments_lexer": "ipython3",
   "version": "3.9.6"
  }
 },
 "nbformat": 4,
 "nbformat_minor": 5
}
