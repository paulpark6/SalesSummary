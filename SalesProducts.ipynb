{
 "cells": [
  {
   "cell_type": "markdown",
   "id": "bb52ec99",
   "metadata": {},
   "source": [
    "## List Current Files In DataBase"
   ]
  },
  {
   "cell_type": "code",
   "execution_count": 1,
   "id": "3ed1a0d6",
   "metadata": {},
   "outputs": [],
   "source": [
    "import os\n",
    "import pandas as pd"
   ]
  },
  {
   "cell_type": "code",
   "execution_count": 2,
   "id": "64e2b41a",
   "metadata": {},
   "outputs": [
    {
     "name": "stdout",
     "output_type": "stream",
     "text": [
      "option [ 1 ]:  price_list_AUG.csv\n",
      "option [ 2 ]:  stock_price.csv\n"
     ]
    }
   ],
   "source": [
    "dirs=os.listdir(\"./DataBase\")\n",
    "for d in dirs:\n",
    "    print(\"option [\" , dirs.index(d) + 1 , \"]: \" , d)"
   ]
  },
  {
   "cell_type": "code",
   "execution_count": 3,
   "id": "adbc5c05",
   "metadata": {},
   "outputs": [
    {
     "name": "stdout",
     "output_type": "stream",
     "text": [
      "Enter File Name (sample1.csv) NO WHITE_SPACE!: price_list_AUG.csv\n"
     ]
    }
   ],
   "source": [
    "file_name = input(\"Enter File Name (sample1.csv) NO WHITE_SPACE!: \")"
   ]
  },
  {
   "cell_type": "code",
   "execution_count": 4,
   "id": "1a3592fc",
   "metadata": {},
   "outputs": [
    {
     "name": "stdout",
     "output_type": "stream",
     "text": [
      "C:\\GitHub-Projects\\DataAnalysis\\Sales Analysis\\SalesSummary\\DataBase\n"
     ]
    }
   ],
   "source": [
    "%cd ./DataBase/"
   ]
  },
  {
   "cell_type": "code",
   "execution_count": 5,
   "id": "47db05fd",
   "metadata": {},
   "outputs": [],
   "source": [
    "#file_path = \"./DataSet/\"+file_name"
   ]
  },
  {
   "cell_type": "code",
   "execution_count": 6,
   "id": "0e256972",
   "metadata": {},
   "outputs": [
    {
     "data": {
      "text/html": [
       "<div>\n",
       "<style scoped>\n",
       "    .dataframe tbody tr th:only-of-type {\n",
       "        vertical-align: middle;\n",
       "    }\n",
       "\n",
       "    .dataframe tbody tr th {\n",
       "        vertical-align: top;\n",
       "    }\n",
       "\n",
       "    .dataframe thead th {\n",
       "        text-align: right;\n",
       "    }\n",
       "</style>\n",
       "<table border=\"1\" class=\"dataframe\">\n",
       "  <thead>\n",
       "    <tr style=\"text-align: right;\">\n",
       "      <th></th>\n",
       "      <th>code</th>\n",
       "      <th>produits</th>\n",
       "      <th>litrage</th>\n",
       "      <th>PAO au Synth?tique</th>\n",
       "      <th>type de moteur</th>\n",
       "      <th>Prix de grossiste</th>\n",
       "      <th>prix de grossiste 1</th>\n",
       "      <th>prix de grossiste 2</th>\n",
       "      <th>prix de taillant</th>\n",
       "    </tr>\n",
       "  </thead>\n",
       "  <tbody>\n",
       "    <tr>\n",
       "      <th>0</th>\n",
       "      <td>E107746</td>\n",
       "      <td>S-OIL 7 GOLD #9 PAO C3 0W-40</td>\n",
       "      <td>1L</td>\n",
       "      <td>100 % PAO</td>\n",
       "      <td>tout type</td>\n",
       "      <td>10,000</td>\n",
       "      <td>13,000</td>\n",
       "      <td>15,000</td>\n",
       "      <td>20,000</td>\n",
       "    </tr>\n",
       "    <tr>\n",
       "      <th>1</th>\n",
       "      <td>E107745</td>\n",
       "      <td>S-OIL 7 GOLD #9 PAO C3 0W-40</td>\n",
       "      <td>200L</td>\n",
       "      <td>100 % PAO</td>\n",
       "      <td>tout type</td>\n",
       "      <td>1,500,000</td>\n",
       "      <td>1,600,000</td>\n",
       "      <td>1,700,000</td>\n",
       "      <td>-</td>\n",
       "    </tr>\n",
       "    <tr>\n",
       "      <th>2</th>\n",
       "      <td>E107742</td>\n",
       "      <td>S-OIL 7 GOLD #9 PAO C3 5W-30</td>\n",
       "      <td>4L</td>\n",
       "      <td>melange de PAO et de synth?tique</td>\n",
       "      <td>tout type</td>\n",
       "      <td>22,000</td>\n",
       "      <td>25,000</td>\n",
       "      <td>30,000</td>\n",
       "      <td>40,000</td>\n",
       "    </tr>\n",
       "  </tbody>\n",
       "</table>\n",
       "</div>"
      ],
      "text/plain": [
       "      code                       produits litrage  \\\n",
       "0  E107746  S-OIL 7 GOLD #9 PAO C3 0W-40      1L    \n",
       "1  E107745  S-OIL 7 GOLD #9 PAO C3 0W-40     200L   \n",
       "2  E107742  S-OIL 7 GOLD #9 PAO C3 5W-30      4L    \n",
       "\n",
       "                  PAO au Synth?tique  type de moteur Prix de grossiste  \\\n",
       "0                          100 % PAO      tout type             10,000   \n",
       "1                          100 % PAO      tout type          1,500,000   \n",
       "2   melange de PAO et de synth?tique      tout type             22,000   \n",
       "\n",
       "  prix de grossiste 1 prix de grossiste 2 prix de taillant  \n",
       "0              13,000              15,000           20,000  \n",
       "1           1,600,000           1,700,000               -   \n",
       "2              25,000              30,000           40,000  "
      ]
     },
     "execution_count": 6,
     "metadata": {},
     "output_type": "execute_result"
    }
   ],
   "source": [
    "data = pd.read_csv(file_name)\n",
    "data.head(3)"
   ]
  },
  {
   "cell_type": "markdown",
   "id": "3b76892e",
   "metadata": {},
   "source": [
    "## Enter Code Name and Price Option"
   ]
  },
  {
   "cell_type": "code",
   "execution_count": 7,
   "id": "8bc356a2",
   "metadata": {},
   "outputs": [
    {
     "name": "stdout",
     "output_type": "stream",
     "text": [
      "Enter Product Name10W-40\n"
     ]
    },
    {
     "data": {
      "text/html": [
       "<div>\n",
       "<style scoped>\n",
       "    .dataframe tbody tr th:only-of-type {\n",
       "        vertical-align: middle;\n",
       "    }\n",
       "\n",
       "    .dataframe tbody tr th {\n",
       "        vertical-align: top;\n",
       "    }\n",
       "\n",
       "    .dataframe thead th {\n",
       "        text-align: right;\n",
       "    }\n",
       "</style>\n",
       "<table border=\"1\" class=\"dataframe\">\n",
       "  <thead>\n",
       "    <tr style=\"text-align: right;\">\n",
       "      <th></th>\n",
       "      <th>code</th>\n",
       "      <th>produits</th>\n",
       "      <th>litrage</th>\n",
       "    </tr>\n",
       "  </thead>\n",
       "  <tbody>\n",
       "    <tr>\n",
       "      <th>9</th>\n",
       "      <td>E107635</td>\n",
       "      <td>S-OIL 7 RED #9 SN 10W-40</td>\n",
       "      <td>1L</td>\n",
       "    </tr>\n",
       "    <tr>\n",
       "      <th>10</th>\n",
       "      <td>E107633</td>\n",
       "      <td>S-OIL 7 RED #9 SN 10W-40</td>\n",
       "      <td>4L</td>\n",
       "    </tr>\n",
       "    <tr>\n",
       "      <th>11</th>\n",
       "      <td>E107634</td>\n",
       "      <td>S-OIL 7 RED #9 SN 10W-40</td>\n",
       "      <td>200L</td>\n",
       "    </tr>\n",
       "    <tr>\n",
       "      <th>17</th>\n",
       "      <td>E107880</td>\n",
       "      <td>S-OIL 7 BLUE #7 CI-4/SL 10W-40 (20)</td>\n",
       "      <td>20L</td>\n",
       "    </tr>\n",
       "    <tr>\n",
       "      <th>18</th>\n",
       "      <td>E107879</td>\n",
       "      <td>S-OIL 7 BLUE #7 CI-4/SL 10W-40</td>\n",
       "      <td>200L</td>\n",
       "    </tr>\n",
       "  </tbody>\n",
       "</table>\n",
       "</div>"
      ],
      "text/plain": [
       "       code                             produits litrage\n",
       "9   E107635            S-OIL 7 RED #9 SN 10W-40      1L \n",
       "10  E107633            S-OIL 7 RED #9 SN 10W-40      4L \n",
       "11  E107634            S-OIL 7 RED #9 SN 10W-40     200L\n",
       "17  E107880  S-OIL 7 BLUE #7 CI-4/SL 10W-40 (20)     20L\n",
       "18  E107879       S-OIL 7 BLUE #7 CI-4/SL 10W-40    200L"
      ]
     },
     "execution_count": 7,
     "metadata": {},
     "output_type": "execute_result"
    }
   ],
   "source": [
    "search = input(\"Enter Product Name\")\n",
    "produits = data[data['produits'].str.contains(search)]\n",
    "produits.loc[:,['code','produits', 'litrage']]"
   ]
  },
  {
   "cell_type": "code",
   "execution_count": 8,
   "id": "3f14fdf2",
   "metadata": {},
   "outputs": [
    {
     "name": "stdout",
     "output_type": "stream",
     "text": [
      "EnterCode Name: E107633\n"
     ]
    }
   ],
   "source": [
    "code = input(\"EnterCode Name: \")"
   ]
  },
  {
   "cell_type": "code",
   "execution_count": 9,
   "id": "c5341403",
   "metadata": {},
   "outputs": [
    {
     "name": "stdout",
     "output_type": "stream",
     "text": [
      "Types:  Prix de grossiste\n",
      "Types:  prix de grossiste 1\n",
      "Types:  prix de grossiste 2\n",
      "Types:  prix de taillant\n"
     ]
    }
   ],
   "source": [
    "tpys = data.columns\n",
    "for i in range(len(tpys)):\n",
    "    if i > 4:\n",
    "        print(\"Types: \", tpys[i])"
   ]
  },
  {
   "cell_type": "code",
   "execution_count": 10,
   "id": "b880b324",
   "metadata": {},
   "outputs": [
    {
     "name": "stdout",
     "output_type": "stream",
     "text": [
      "Enter Product Type: Prix de grossiste\n"
     ]
    }
   ],
   "source": [
    "product_type = input(\"Enter Product Type: \")"
   ]
  },
  {
   "cell_type": "code",
   "execution_count": 11,
   "id": "7ae53324",
   "metadata": {},
   "outputs": [
    {
     "data": {
      "text/html": [
       "<div>\n",
       "<style scoped>\n",
       "    .dataframe tbody tr th:only-of-type {\n",
       "        vertical-align: middle;\n",
       "    }\n",
       "\n",
       "    .dataframe tbody tr th {\n",
       "        vertical-align: top;\n",
       "    }\n",
       "\n",
       "    .dataframe thead th {\n",
       "        text-align: right;\n",
       "    }\n",
       "</style>\n",
       "<table border=\"1\" class=\"dataframe\">\n",
       "  <thead>\n",
       "    <tr style=\"text-align: right;\">\n",
       "      <th></th>\n",
       "      <th>code</th>\n",
       "      <th>produits</th>\n",
       "      <th>Prix de grossiste</th>\n",
       "    </tr>\n",
       "  </thead>\n",
       "  <tbody>\n",
       "    <tr>\n",
       "      <th>10</th>\n",
       "      <td>E107633</td>\n",
       "      <td>S-OIL 7 RED #9 SN 10W-40</td>\n",
       "      <td>13,000</td>\n",
       "    </tr>\n",
       "  </tbody>\n",
       "</table>\n",
       "</div>"
      ],
      "text/plain": [
       "       code                   produits Prix de grossiste\n",
       "10  E107633  S-OIL 7 RED #9 SN 10W-40             13,000"
      ]
     },
     "execution_count": 11,
     "metadata": {},
     "output_type": "execute_result"
    }
   ],
   "source": [
    "product = data.loc[data['code']==code]\n",
    "product.loc[:, ['code', 'produits', product_type]]"
   ]
  },
  {
   "cell_type": "code",
   "execution_count": null,
   "id": "aa772edb",
   "metadata": {},
   "outputs": [],
   "source": []
  }
 ],
 "metadata": {
  "kernelspec": {
   "display_name": "Python 3",
   "language": "python",
   "name": "python3"
  },
  "language_info": {
   "codemirror_mode": {
    "name": "ipython",
    "version": 3
   },
   "file_extension": ".py",
   "mimetype": "text/x-python",
   "name": "python",
   "nbconvert_exporter": "python",
   "pygments_lexer": "ipython3",
   "version": "3.9.13 (tags/v3.9.13:6de2ca5, May 17 2022, 16:36:42) [MSC v.1929 64 bit (AMD64)]"
  },
  "vscode": {
   "interpreter": {
    "hash": "44a50b1badeca22992fbf891e6885400eebeeada9f277cc867bef87bc3d6f19c"
   }
  }
 },
 "nbformat": 4,
 "nbformat_minor": 5
}
