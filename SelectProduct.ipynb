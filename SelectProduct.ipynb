{
 "cells": [
  {
   "cell_type": "markdown",
   "id": "ed61e97f",
   "metadata": {},
   "source": [
    "## List Current Files In DataBase"
   ]
  },
  {
   "cell_type": "code",
   "execution_count": 46,
   "id": "f99d7d9c",
   "metadata": {},
   "outputs": [],
   "source": [
    "import os\n",
    "import pandas as pd"
   ]
  },
  {
   "cell_type": "code",
   "execution_count": 47,
   "id": "97d15264",
   "metadata": {},
   "outputs": [
    {
     "name": "stdout",
     "output_type": "stream",
     "text": [
      "option [ 1 ]:  price_list_AUG.csv\n",
      "option [ 2 ]:  stock_price.csv\n"
     ]
    }
   ],
   "source": [
    "dirs=os.listdir()\n",
    "for d in dirs:\n",
    "    print(\"option [\" , dirs.index(d) + 1 , \"]: \" , d)"
   ]
  },
  {
   "cell_type": "code",
   "execution_count": 48,
   "id": "7572bed0",
   "metadata": {},
   "outputs": [
    {
     "name": "stdout",
     "output_type": "stream",
     "text": [
      "Enter File Name (sample1.csv) NO WHITE_SPACE!: price_list_AUG.csv\n"
     ]
    }
   ],
   "source": [
    "file_name = input(\"Enter File Name (sample1.csv) NO WHITE_SPACE!: \")"
   ]
  },
  {
   "cell_type": "code",
   "execution_count": 49,
   "id": "85920a95",
   "metadata": {},
   "outputs": [],
   "source": [
    "file_path = \"./DataSet/\"+file_name"
   ]
  },
  {
   "cell_type": "code",
   "execution_count": 53,
   "id": "53152fed",
   "metadata": {},
   "outputs": [],
   "source": [
    "data = pd.read_csv(\"price_list_AUG.csv\")\n",
    "data."
   ]
  },
  {
   "cell_type": "code",
   "execution_count": null,
   "id": "fd6c1099",
   "metadata": {},
   "outputs": [],
   "source": []
  }
 ],
 "metadata": {
  "kernelspec": {
   "display_name": "Python 3 (ipykernel)",
   "language": "python",
   "name": "python3"
  },
  "language_info": {
   "codemirror_mode": {
    "name": "ipython",
    "version": 3
   },
   "file_extension": ".py",
   "mimetype": "text/x-python",
   "name": "python",
   "nbconvert_exporter": "python",
   "pygments_lexer": "ipython3",
   "version": "3.9.6"
  }
 },
 "nbformat": 4,
 "nbformat_minor": 5
}
