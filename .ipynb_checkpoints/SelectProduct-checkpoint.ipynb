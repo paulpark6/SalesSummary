{
 "cells": [
  {
   "cell_type": "markdown",
   "id": "cc0f20e1",
   "metadata": {},
   "source": [
    "## List Current Files In DataBase"
   ]
  },
  {
   "cell_type": "code",
   "execution_count": 41,
   "id": "33758999",
   "metadata": {},
   "outputs": [],
   "source": [
    "import os\n",
    "import pandas as pd"
   ]
  },
  {
   "cell_type": "code",
   "execution_count": 42,
   "id": "6f4c3799",
   "metadata": {},
   "outputs": [
    {
     "name": "stdout",
     "output_type": "stream",
     "text": [
      "option [ 1 ]:  price_list_AUG.csv\n",
      "option [ 2 ]:  stock_price.csv\n"
     ]
    }
   ],
   "source": [
    "dirs=os.listdir()\n",
    "for d in dirs:\n",
    "    print(\"option [\" , dirs.index(d) + 1 , \"]: \" , d)"
   ]
  },
  {
   "cell_type": "code",
   "execution_count": null,
   "id": "c5a2341d",
   "metadata": {},
   "outputs": [],
   "source": []
  }
 ],
 "metadata": {
  "kernelspec": {
   "display_name": "Python 3 (ipykernel)",
   "language": "python",
   "name": "python3"
  },
  "language_info": {
   "codemirror_mode": {
    "name": "ipython",
    "version": 3
   },
   "file_extension": ".py",
   "mimetype": "text/x-python",
   "name": "python",
   "nbconvert_exporter": "python",
   "pygments_lexer": "ipython3",
   "version": "3.9.6"
  }
 },
 "nbformat": 4,
 "nbformat_minor": 5
}
